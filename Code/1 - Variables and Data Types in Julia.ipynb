{
 "cells": [
  {
   "cell_type": "markdown",
   "id": "f261dc69-3d9c-4424-b94e-5c8f2f72e608",
   "metadata": {},
   "source": [
    "1. Defining Variables"
   ]
  },
  {
   "cell_type": "code",
   "execution_count": null,
   "id": "b57e92b5-c5cf-4717-82be-2cb3ef2232fa",
   "metadata": {
    "scrolled": true
   },
   "outputs": [],
   "source": [
    "# Defining a variable 'x' with value 10\n",
    "x = 10  \n",
    "\n",
    "# Defining a variable 'y' with a string value\n",
    "y = \"Hello, World!\""
   ]
  },
  {
   "cell_type": "code",
   "execution_count": 12,
   "id": "25842ba2-abbd-4674-b2f3-9ae2b5c15160",
   "metadata": {
    "scrolled": true
   },
   "outputs": [
    {
     "data": {
      "text/plain": [
       "(5, 7.5, \"World\")"
      ]
     },
     "execution_count": 12,
     "metadata": {},
     "output_type": "execute_result"
    }
   ],
   "source": [
    "a, b, c = 5, 7.5, \"World\"  # 'a' is an integer, 'b' is a float, 'c' is a string"
   ]
  },
  {
   "cell_type": "code",
   "execution_count": 14,
   "id": "9a3e0ada-b9f3-4a75-8c67-896b3ef33233",
   "metadata": {},
   "outputs": [
    {
     "data": {
      "text/plain": [
       "\"Hello, Julia!\""
      ]
     },
     "execution_count": 14,
     "metadata": {},
     "output_type": "execute_result"
    }
   ],
   "source": [
    "a = 10   # Integer\n",
    "b = -5   # Negative integer\n",
    "pi_value = 3.14159   # Floating-point number (Float64)\n",
    "small_value = 0.0001 # Another floating-point number\n",
    "name = \"Alice\"  # A string variable\n",
    "greeting = \"Hello, Julia!\""
   ]
  },
  {
   "cell_type": "markdown",
   "id": "71f9398b-50c1-4772-8ec9-f3390d2ea1c4",
   "metadata": {},
   "source": [
    "2. Changing the Value of a Variable julia"
   ]
  },
  {
   "cell_type": "code",
   "execution_count": 5,
   "id": "c8e42207-6bc6-48b1-84fd-d60631f71db0",
   "metadata": {},
   "outputs": [
    {
     "name": "stdout",
     "output_type": "stream",
     "text": [
      "15\n"
     ]
    }
   ],
   "source": [
    "# Initially, x is 10\n",
    "x = 10\n",
    "\n",
    "# Changing the value of 'x' by adding 5\n",
    "x = x + 5  \n",
    "\n",
    "# Printing the updated value of 'x'\n",
    "println(x)  "
   ]
  },
  {
   "cell_type": "markdown",
   "id": "3825d120-f1cc-4210-8087-36fdf808c19c",
   "metadata": {},
   "source": [
    "3. Data Types: Integers & Floats julia"
   ]
  },
  {
   "cell_type": "code",
   "execution_count": 6,
   "id": "ecd07388-580a-4f10-857c-92ccbba92f07",
   "metadata": {},
   "outputs": [
    {
     "name": "stdout",
     "output_type": "stream",
     "text": [
      "Int64\n",
      "Float64\n"
     ]
    }
   ],
   "source": [
    "# Defining an integer\n",
    "a = 10      # Integer type\n",
    "\n",
    "# Defining a floating point number\n",
    "b = 3.14    # Float type (decimal number)\n",
    "\n",
    "# Checking the types of the variables\n",
    "println(typeof(a))  # Should print 'Int64'\n",
    "println(typeof(b))  # Should print 'Float64'"
   ]
  },
  {
   "cell_type": "markdown",
   "id": "6fe72af9-9954-4c45-ae7e-224e078c45e6",
   "metadata": {},
   "source": [
    "4. Data Type: Strings"
   ]
  },
  {
   "cell_type": "code",
   "execution_count": 7,
   "id": "d036180b-4f76-469a-8592-4334a502d034",
   "metadata": {},
   "outputs": [
    {
     "name": "stdout",
     "output_type": "stream",
     "text": [
      "Hello, Julia!\n"
     ]
    }
   ],
   "source": [
    "# Defining a string variable\n",
    "greeting = \"Hello, Julia!\"  \n",
    "\n",
    "# Printing the string value\n",
    "println(greeting)  "
   ]
  },
  {
   "cell_type": "code",
   "execution_count": 15,
   "id": "1ec9ae7e-dd94-4192-b2ec-fcbb6750e858",
   "metadata": {},
   "outputs": [
    {
     "name": "stdout",
     "output_type": "stream",
     "text": [
      "Hello, Julia!\n",
      "13\n"
     ]
    }
   ],
   "source": [
    "greeting = \"Hello, \" * \"Julia!\"  # Concatenate strings\n",
    "println(greeting)  # Output: Hello, Julia!\n",
    "println(length(greeting))  # Output: 13 (length of the string)"
   ]
  },
  {
   "cell_type": "markdown",
   "id": "a1d6f845-a055-4fa7-b02f-c3ca6faf4899",
   "metadata": {},
   "source": [
    "5. Data Type: Booleans"
   ]
  },
  {
   "cell_type": "code",
   "execution_count": 9,
   "id": "293f71cf-f1b5-4ef2-8a14-4fa8eeba5772",
   "metadata": {},
   "outputs": [
    {
     "name": "stdout",
     "output_type": "stream",
     "text": [
      "true\n",
      "false\n"
     ]
    }
   ],
   "source": [
    "# Defining boolean variables\n",
    "is_active = true  \n",
    "is_completed = false  \n",
    "\n",
    "# Printing boolean values\n",
    "println(is_active)  # Should print 'true'\n",
    "println(is_completed)  # Should print 'false'\n"
   ]
  },
  {
   "cell_type": "markdown",
   "id": "835a6e18-ea90-47e5-96a1-6bbeb7353eb2",
   "metadata": {},
   "source": [
    "6. Arrays (1D Array)"
   ]
  },
  {
   "cell_type": "code",
   "execution_count": 10,
   "id": "446eb583-7f2a-4430-a678-d0df2c47e346",
   "metadata": {},
   "outputs": [
    {
     "name": "stdout",
     "output_type": "stream",
     "text": [
      "[1, 2, 3, 4, 5]\n"
     ]
    }
   ],
   "source": [
    "# Defining an array of integers\n",
    "numbers = [1, 2, 3, 4, 5]  \n",
    "\n",
    "# Printing the array\n",
    "println(numbers) "
   ]
  },
  {
   "cell_type": "code",
   "execution_count": 16,
   "id": "765ac968-17a4-4051-b32c-96e66cc2983c",
   "metadata": {},
   "outputs": [
    {
     "data": {
      "text/plain": [
       "3-element Vector{String}:\n",
       " \"apple\"\n",
       " \"banana\"\n",
       " \"cherry\""
      ]
     },
     "execution_count": 16,
     "metadata": {},
     "output_type": "execute_result"
    }
   ],
   "source": [
    "numbers = [1, 2, 3, 4, 5]  # A 1D array of integers\n",
    "fruits = [\"apple\", \"banana\", \"cherry\"]  # A 1D array of strings"
   ]
  },
  {
   "cell_type": "markdown",
   "id": "0dbaa2d7-293b-4c0c-9322-9a508eecbc10",
   "metadata": {},
   "source": [
    "7. Arrays (2D Array / Matrix)"
   ]
  },
  {
   "cell_type": "code",
   "execution_count": 11,
   "id": "3ec30f18-bfbe-4b42-ae19-f5f937d10512",
   "metadata": {},
   "outputs": [
    {
     "name": "stdout",
     "output_type": "stream",
     "text": [
      "[1 2 3; 4 5 6; 7 8 9]\n"
     ]
    }
   ],
   "source": [
    "# Defining a 2D array (matrix)\n",
    "matrix = [1 2 3; 4 5 6; 7 8 9]  \n",
    "\n",
    "# Printing the matrix\n",
    "println(matrix)"
   ]
  },
  {
   "cell_type": "code",
   "execution_count": 17,
   "id": "0771389b-23da-469c-bdc8-11fa359e8342",
   "metadata": {},
   "outputs": [
    {
     "data": {
      "text/plain": [
       "3×3 Matrix{Int64}:\n",
       " 1  2  3\n",
       " 4  5  6\n",
       " 7  8  9"
      ]
     },
     "execution_count": 17,
     "metadata": {},
     "output_type": "execute_result"
    }
   ],
   "source": [
    "matrix = [1 2 3; 4 5 6; 7 8 9]  # A 3x3 matrix"
   ]
  },
  {
   "cell_type": "markdown",
   "id": "f1a13ed8-e494-4429-b01a-4066b0964cf6",
   "metadata": {},
   "source": [
    "Project"
   ]
  },
  {
   "cell_type": "code",
   "execution_count": 26,
   "id": "e1fc650f-604c-4d21-9458-4627e9168183",
   "metadata": {},
   "outputs": [
    {
     "data": {
      "text/plain": [
       "\"blue\""
      ]
     },
     "execution_count": 26,
     "metadata": {},
     "output_type": "execute_result"
    }
   ],
   "source": [
    "# Step 1: Define Variables\n",
    "name = \"Alice\"  # String variable to store name\n",
    "age = 25        # Integer variable to store age\n",
    "favorite_color = \"blue\"  # String variable to store favorite color"
   ]
  },
  {
   "cell_type": "code",
   "execution_count": 30,
   "id": "504834e3-546f-4ac4-813f-47bd9fde7680",
   "metadata": {},
   "outputs": [
    {
     "name": "stdout",
     "output_type": "stream",
     "text": [
      "Hello, Alice !\n",
      "You are 25 years old.\n",
      "Your favorite color is blue.\n",
      "You have 75 years left until you turn 100.\n"
     ]
    }
   ],
   "source": [
    "# Step 3: Display the Results\n",
    "println(\"Hello, $name !\")  # Use the correct variable name\n",
    "println(\"You are $age years old.\")\n",
    "println(\"Your favorite color is $favorite_color.\")\n",
    "println(\"You have $years_remaining years left until you turn 100.\")"
   ]
  },
  {
   "cell_type": "code",
   "execution_count": null,
   "id": "e2ac4c7f-948b-42ed-8304-1e49c369a672",
   "metadata": {},
   "outputs": [],
   "source": []
  }
 ],
 "metadata": {
  "kernelspec": {
   "display_name": "Julia 1.11.1",
   "language": "julia",
   "name": "julia-1.11"
  },
  "language_info": {
   "file_extension": ".jl",
   "mimetype": "application/julia",
   "name": "julia",
   "version": "1.11.1"
  }
 },
 "nbformat": 4,
 "nbformat_minor": 5
}
