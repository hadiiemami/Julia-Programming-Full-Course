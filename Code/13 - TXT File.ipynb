{
 "cells": [
  {
   "cell_type": "code",
   "execution_count": 1,
   "id": "43c5cf3e-ee33-4ffb-84fc-a9878c7fda86",
   "metadata": {},
   "outputs": [
    {
     "name": "stdout",
     "output_type": "stream",
     "text": [
      "Reading file: D:/Learn/Julia Programming/Attachment/File Handling/sample3.txt\n",
      "Writing results to: D:/Learn/Julia Programming/Attachment/File Handling/output.txt\n"
     ]
    }
   ],
   "source": [
    "# Define the project function\n",
    "function process_text_file(input_file::String, output_file::String)\n",
    "    file_content = \"\"\n",
    "    try\n",
    "        # Step 1: Read the file\n",
    "        println(\"Reading file: $input_file\")\n",
    "        file_content = read(input_file, String)\n",
    "    catch e\n",
    "        println(\"An error occurred while reading the file: $e\")\n",
    "        return\n",
    "    end\n",
    "\n",
    "    # Step 2: Analyze the content\n",
    "    # Remove punctuation and split by spaces for word analysis\n",
    "    clean_content = replace(file_content, r\"[^\\w\\s]\" => \"\")  # Remove punctuation\n",
    "    words = split(clean_content)  # Split content into words\n",
    "    sentences = split(file_content, r\"[.!?]\")  # Split content into sentences\n",
    "\n",
    "    total_words = length(words)\n",
    "    total_sentences = length(sentences)\n",
    "\n",
    "    # Count word frequencies\n",
    "    word_freq = Dict{String, Int}()\n",
    "    for word in words\n",
    "        word = lowercase(word)  # Convert to lowercase for case-insensitive matching\n",
    "        word_freq[word] = get(word_freq, word, 0) + 1\n",
    "    end\n",
    "\n",
    "    # Find the most frequent words\n",
    "    sorted_words = sort(collect(word_freq), by = x -> x[2], rev = true)\n",
    "    top_words = sorted_words[1:5]  # Top 5 words\n",
    "\n",
    "    # Step 3: Save the results to a file\n",
    "    try\n",
    "        println(\"Writing results to: $output_file\")\n",
    "        open(output_file, \"w\") do file\n",
    "            write(file, \"Text Analysis Results\\n\")\n",
    "            write(file, \"---------------------\\n\")\n",
    "            write(file, \"Total Words: $total_words\\n\")\n",
    "            write(file, \"Total Sentences: $total_sentences\\n\")\n",
    "            write(file, \"Most Frequent Words:\\n\")\n",
    "            for (word, freq) in top_words\n",
    "                write(file, \"  $word: $freq\\n\")\n",
    "            end\n",
    "        end\n",
    "    catch e\n",
    "        println(\"An error occurred while writing to the file: $e\")\n",
    "    end\n",
    "end\n",
    "\n",
    "# Example usage\n",
    "input_file = \"D:/Learn/Julia Programming/Attachment/File Handling/sample3.txt\"\n",
    "output_file = \"D:/Learn/Julia Programming/Attachment/File Handling/output.txt\"\n",
    "process_text_file(input_file, output_file)\n"
   ]
  }
 ],
 "metadata": {
  "kernelspec": {
   "display_name": "Julia 1.11.1",
   "language": "julia",
   "name": "julia-1.11"
  },
  "language_info": {
   "file_extension": ".jl",
   "mimetype": "application/julia",
   "name": "julia",
   "version": "1.11.1"
  }
 },
 "nbformat": 4,
 "nbformat_minor": 5
}
