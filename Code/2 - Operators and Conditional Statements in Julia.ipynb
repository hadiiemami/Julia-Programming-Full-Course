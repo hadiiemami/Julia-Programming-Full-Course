{
 "cells": [
  {
   "cell_type": "markdown",
   "id": "0b5c62bd-9197-4076-9e61-72d66a594832",
   "metadata": {},
   "source": [
    "Operators and Conditional Statements in Julia"
   ]
  },
  {
   "cell_type": "markdown",
   "id": "990fc0b2-014f-4791-a48d-093948785f2b",
   "metadata": {},
   "source": [
    "## 1. Operators\n",
    "\n",
    "### Operators in Julia are symbols used to perform operations on variables or values. Let's go through the most common operators.\n",
    "\n",
    "#### Arithmetic Operators\n",
    "##### These operators are used for basic mathematical calculations:\n",
    "\n",
    "###### + : Addition\n",
    "###### - : Subtraction\n",
    "###### * : Multiplication\n",
    "###### / : Division\n",
    "###### ^ : Exponentiation (raising to a power)\n",
    "###### // : Integer division (returns an integer result)"
   ]
  },
  {
   "cell_type": "code",
   "execution_count": 1,
   "id": "0e81e9c6-7515-4ac0-bcdd-c0050d2a2565",
   "metadata": {},
   "outputs": [
    {
     "data": {
      "text/plain": [
       "2//1"
      ]
     },
     "execution_count": 1,
     "metadata": {},
     "output_type": "execute_result"
    }
   ],
   "source": [
    "a = 10\n",
    "b = 5\n",
    "\n",
    "sum_result = a + b     # 15\n",
    "difference = a - b     # 5\n",
    "product = a * b        # 50\n",
    "quotient = a / b       # 2.0\n",
    "exponentiation = a ^ b  # 100000\n",
    "int_div = a // b       # 2 (integer division)"
   ]
  },
  {
   "cell_type": "markdown",
   "id": "457a47e8-dae7-4040-9e41-543bc94a5e94",
   "metadata": {},
   "source": [
    "## Comparison Operators\n",
    "\n",
    "### These operators are used to compare two values. They return a boolean value (true or false).\n",
    "\n",
    "##### == : Equal to\n",
    "\n",
    "##### != : Not equal to\n",
    "\n",
    "##### < : Less than\n",
    "\n",
    "##### > : Greater than\n",
    "\n",
    "##### <= : Less than or equal to\n",
    "##### >= : Greater than or equal to"
   ]
  },
  {
   "cell_type": "code",
   "execution_count": 2,
   "id": "6103bfa6-d54f-443c-b910-663ab84de15e",
   "metadata": {},
   "outputs": [
    {
     "name": "stdout",
     "output_type": "stream",
     "text": [
      "false\n",
      "true\n",
      "true\n",
      "false\n",
      "true\n",
      "true\n"
     ]
    }
   ],
   "source": [
    "x = 10\n",
    "y = 20\n",
    "\n",
    "println(x == y)   # false\n",
    "println(x != y)   # true\n",
    "println(x < y)    # true\n",
    "println(x > y)    # false\n",
    "println(x <= 10)  # true\n",
    "println(y >= 10)  # true"
   ]
  },
  {
   "cell_type": "markdown",
   "id": "8e5d620b-21dd-41f6-a8c1-851dc28a3380",
   "metadata": {},
   "source": [
    "## Logical Operators\n",
    "\n",
    "\n",
    "### These operators are used for logical operations:\n",
    "\n",
    "\n",
    "\n",
    "&& : Logical AND\n",
    "\n",
    "\n",
    "|| : Logical OR\n",
    "\n",
    "\n",
    "! : Logical NOT"
   ]
  },
  {
   "cell_type": "code",
   "execution_count": 3,
   "id": "dca9bd6a-9434-4e5d-86a5-dfe2bfca3caf",
   "metadata": {},
   "outputs": [
    {
     "name": "stdout",
     "output_type": "stream",
     "text": [
      "false\n",
      "true\n",
      "false\n"
     ]
    }
   ],
   "source": [
    "a = true\n",
    "b = false\n",
    "\n",
    "println(a && b)  # false\n",
    "println(a || b)  # true\n",
    "println(!a)      # false"
   ]
  },
  {
   "cell_type": "markdown",
   "id": "09cf84b8-8ff1-4cdc-ad20-d3bc27eafb88",
   "metadata": {},
   "source": [
    "## Assignment Operators\n",
    "### These are used to assign values to variables:\n",
    "\n",
    "##### = : Simple assignment\n",
    "##### += : Add and assign\n",
    "##### -= : Subtract and assign\n",
    "##### *= : Multiply and assign\n",
    "##### /= : Divide and assign"
   ]
  },
  {
   "cell_type": "code",
   "execution_count": 4,
   "id": "853d844c-e646-415b-96de-a1993677cb11",
   "metadata": {},
   "outputs": [
    {
     "data": {
      "text/plain": [
       "6.0"
      ]
     },
     "execution_count": 4,
     "metadata": {},
     "output_type": "execute_result"
    }
   ],
   "source": [
    "x = 10\n",
    "x += 5  # x = x + 5 => 15\n",
    "x -= 3  # x = x - 3 => 12\n",
    "x *= 2  # x = x * 2 => 24\n",
    "x /= 4  # x = x / 4 => 6.0"
   ]
  },
  {
   "cell_type": "markdown",
   "id": "7a5f2d0a-1b3e-4b5a-bdf3-19edf797bb55",
   "metadata": {},
   "source": [
    "## 2. Conditional Statements (If-Else)\n",
    "\n",
    "##### Conditional statements are used to make decisions in your code. The program will execute certain blocks of code depending on whether the condition is true or false.\n",
    "\n",
    "### Basic if Statement\n",
    "\n",
    "##### The if statement allows you to execute a block of code if a specified condition is true."
   ]
  },
  {
   "cell_type": "code",
   "execution_count": 5,
   "id": "f34a8d1b-591d-4238-b833-b54338fcfda1",
   "metadata": {},
   "outputs": [
    {
     "name": "stdout",
     "output_type": "stream",
     "text": [
      "You are an adult.\n"
     ]
    }
   ],
   "source": [
    "age = 18\n",
    "\n",
    "if age >= 18\n",
    "    println(\"You are an adult.\")\n",
    "end"
   ]
  },
  {
   "cell_type": "code",
   "execution_count": 9,
   "id": "96719534-0d62-4812-bfa3-9a2cc1796882",
   "metadata": {},
   "outputs": [
    {
     "name": "stdout",
     "output_type": "stream",
     "text": [
      "The number is positive.\n"
     ]
    }
   ],
   "source": [
    "# Check if a number is positive\n",
    "num = 10\n",
    "if num > 0\n",
    "    println(\"The number is positive.\")\n",
    "end"
   ]
  },
  {
   "cell_type": "code",
   "execution_count": 10,
   "id": "368d11a0-3648-4087-b23e-7ba8003ad776",
   "metadata": {},
   "outputs": [
    {
     "name": "stdout",
     "output_type": "stream",
     "text": [
      "The string is longer than 5 characters.\n"
     ]
    }
   ],
   "source": [
    "# Check if the length of a string is greater than 5\n",
    "my_string = \"JuliaLang\"\n",
    "if length(my_string) > 5\n",
    "    println(\"The string is longer than 5 characters.\")\n",
    "end"
   ]
  },
  {
   "cell_type": "code",
   "execution_count": 11,
   "id": "7c3d86b7-9cbf-4734-9bd6-dfd564802cce",
   "metadata": {},
   "outputs": [
    {
     "name": "stdout",
     "output_type": "stream",
     "text": [
      "The number 3 is in the list.\n"
     ]
    }
   ],
   "source": [
    "# Check if an element exists in a list\n",
    "my_list = [1, 2, 3, 4, 5]\n",
    "if 3 in my_list\n",
    "    println(\"The number 3 is in the list.\")\n",
    "end"
   ]
  },
  {
   "cell_type": "code",
   "execution_count": 12,
   "id": "fde86131-300f-49b3-9a5e-80d2b9fb341e",
   "metadata": {},
   "outputs": [
    {
     "name": "stdout",
     "output_type": "stream",
     "text": [
      "The variables are equal.\n"
     ]
    }
   ],
   "source": [
    "# Check if two variables are equal\n",
    "a = 5\n",
    "b = 5\n",
    "if a == b\n",
    "    println(\"The variables are equal.\")\n",
    "end"
   ]
  },
  {
   "cell_type": "code",
   "execution_count": 13,
   "id": "a3bd42d0-cea0-4836-9b83-7b04d46ae75f",
   "metadata": {},
   "outputs": [
    {
     "name": "stdout",
     "output_type": "stream",
     "text": [
      "The array is empty.\n"
     ]
    }
   ],
   "source": [
    "# Check if an array is empty\n",
    "my_array = []\n",
    "if isempty(my_array)\n",
    "    println(\"The array is empty.\")\n",
    "end"
   ]
  },
  {
   "cell_type": "code",
   "execution_count": 14,
   "id": "d16ba87b-cb16-4812-b9ee-ff7c6838d9fd",
   "metadata": {},
   "outputs": [
    {
     "name": "stdout",
     "output_type": "stream",
     "text": [
      "The variable is a String.\n"
     ]
    }
   ],
   "source": [
    "# Check if a variable is of type String\n",
    "x = \"Hello\"\n",
    "if typeof(x) == String\n",
    "    println(\"The variable is a String.\")\n",
    "end"
   ]
  },
  {
   "cell_type": "code",
   "execution_count": 15,
   "id": "782082ca-4b54-49d8-b15b-ffd2f16e6892",
   "metadata": {},
   "outputs": [
    {
     "name": "stdout",
     "output_type": "stream",
     "text": [
      "The number is even.\n"
     ]
    }
   ],
   "source": [
    "# Check if a number is even\n",
    "num = 6\n",
    "if num % 2 == 0\n",
    "    println(\"The number is even.\")\n",
    "end"
   ]
  },
  {
   "cell_type": "markdown",
   "id": "b3c00de0-17b6-447e-b655-4df501adbf55",
   "metadata": {},
   "source": [
    "### if-else Statement\n",
    "\n",
    "##### The if-else statement allows you to execute one block of code if the condition is true and another block if the condition is false."
   ]
  },
  {
   "cell_type": "code",
   "execution_count": 6,
   "id": "8a7028eb-5a80-41c6-be6a-70fb4255e336",
   "metadata": {},
   "outputs": [
    {
     "name": "stdout",
     "output_type": "stream",
     "text": [
      "You are not an adult.\n"
     ]
    }
   ],
   "source": [
    "age = 16\n",
    "\n",
    "if age >= 18\n",
    "    println(\"You are an adult.\")\n",
    "else\n",
    "    println(\"You are not an adult.\")\n",
    "end"
   ]
  },
  {
   "cell_type": "code",
   "execution_count": 16,
   "id": "f3aeeef2-d66a-4bb9-8935-2660e3f66bdf",
   "metadata": {},
   "outputs": [
    {
     "name": "stdout",
     "output_type": "stream",
     "text": [
      "The number is negative.\n"
     ]
    }
   ],
   "source": [
    "# Check if a number is positive or negative\n",
    "num = -5\n",
    "if num >= 0\n",
    "    println(\"The number is positive.\")\n",
    "else\n",
    "    println(\"The number is negative.\")\n",
    "end"
   ]
  },
  {
   "cell_type": "code",
   "execution_count": 18,
   "id": "fe7b0ba0-6e79-48f9-8846-7812e64cb528",
   "metadata": {},
   "outputs": [
    {
     "name": "stdout",
     "output_type": "stream",
     "text": [
      "The string is short.\n"
     ]
    }
   ],
   "source": [
    "# Check if a string is long or short\n",
    "my_string = \"Julia\"\n",
    "if length(my_string) > 5\n",
    "    println(\"The string is long.\")\n",
    "else\n",
    "    println(\"The string is short.\")\n",
    "end"
   ]
  },
  {
   "cell_type": "code",
   "execution_count": 19,
   "id": "877d431e-a286-41d8-8f10-4ce8936a139b",
   "metadata": {},
   "outputs": [
    {
     "name": "stdout",
     "output_type": "stream",
     "text": [
      "The number is odd.\n"
     ]
    }
   ],
   "source": [
    "# Check if a number is even or odd\n",
    "num = 7\n",
    "if num % 2 == 0\n",
    "    println(\"The number is even.\")\n",
    "else\n",
    "    println(\"The number is odd.\")\n",
    "end\n"
   ]
  },
  {
   "cell_type": "code",
   "execution_count": 20,
   "id": "74d8f9df-ba99-4d8a-9732-e6e41086e498",
   "metadata": {},
   "outputs": [
    {
     "name": "stdout",
     "output_type": "stream",
     "text": [
      "The number is not in the list.\n"
     ]
    }
   ],
   "source": [
    "# Check if an element exists in a list\n",
    "my_list = [1, 2, 3, 4, 5]\n",
    "if 6 in my_list\n",
    "    println(\"The number is in the list.\")\n",
    "else\n",
    "    println(\"The number is not in the list.\")\n",
    "end"
   ]
  },
  {
   "cell_type": "code",
   "execution_count": 21,
   "id": "6ce9520a-6099-498c-979c-afb4c34b3e92",
   "metadata": {},
   "outputs": [
    {
     "name": "stdout",
     "output_type": "stream",
     "text": [
      "The temperature is above freezing.\n"
     ]
    }
   ],
   "source": [
    "# Check if the temperature is above or below freezing\n",
    "temperature = 15\n",
    "if temperature > 0\n",
    "    println(\"The temperature is above freezing.\")\n",
    "else\n",
    "    println(\"The temperature is below freezing.\")\n",
    "end\n"
   ]
  },
  {
   "cell_type": "markdown",
   "id": "0f2d3d72-b8e8-41de-9267-a7d9df777e80",
   "metadata": {},
   "source": [
    "### if-elseif-else Statement\n",
    "\n",
    "##### If you have multiple conditions to check, you can use elseif to check additional conditions after the first one."
   ]
  },
  {
   "cell_type": "code",
   "execution_count": 22,
   "id": "3607d32b-4f0d-4288-8622-e9069eb3a098",
   "metadata": {},
   "outputs": [
    {
     "name": "stdout",
     "output_type": "stream",
     "text": [
      "You are an adult but not yet 21.\n"
     ]
    }
   ],
   "source": [
    "age = 20\n",
    "\n",
    "if age < 18\n",
    "    println(\"You are a minor.\")\n",
    "elseif age >= 18 && age < 21\n",
    "    println(\"You are an adult but not yet 21.\")\n",
    "else\n",
    "    println(\"You are an adult and over 21.\")\n",
    "end"
   ]
  },
  {
   "cell_type": "code",
   "execution_count": 23,
   "id": "1aa5bce0-ba71-405a-8159-b26f8c1b09d3",
   "metadata": {},
   "outputs": [
    {
     "name": "stdout",
     "output_type": "stream",
     "text": [
      "It's warm.\n"
     ]
    }
   ],
   "source": [
    "# Check temperature status\n",
    "temperature = 25\n",
    "if temperature > 30\n",
    "    println(\"It's hot.\")\n",
    "elseif temperature >= 15\n",
    "    println(\"It's warm.\")\n",
    "else\n",
    "    println(\"It's cold.\")\n",
    "end"
   ]
  },
  {
   "cell_type": "code",
   "execution_count": 24,
   "id": "69de1988-4f92-4c80-997f-063030d096ea",
   "metadata": {},
   "outputs": [
    {
     "name": "stdout",
     "output_type": "stream",
     "text": [
      "Grade: B\n"
     ]
    }
   ],
   "source": [
    "# Categorize student grades\n",
    "grade = 85\n",
    "if grade >= 90\n",
    "    println(\"Grade: A\")\n",
    "elseif grade >= 75\n",
    "    println(\"Grade: B\")\n",
    "elseif grade >= 50\n",
    "    println(\"Grade: C\")\n",
    "else\n",
    "    println(\"Grade: F\")\n",
    "end"
   ]
  },
  {
   "cell_type": "code",
   "execution_count": 25,
   "id": "9f93a086-c33b-4902-89b2-fed50e0bf579",
   "metadata": {},
   "outputs": [
    {
     "name": "stdout",
     "output_type": "stream",
     "text": [
      "Normal Speed.\n"
     ]
    }
   ],
   "source": [
    "# Determine car speed status\n",
    "speed = 120\n",
    "if speed > 120\n",
    "    println(\"Over Speeding!\")\n",
    "elseif speed >= 80\n",
    "    println(\"Normal Speed.\")\n",
    "else\n",
    "    println(\"Slow Driving.\")\n",
    "end"
   ]
  },
  {
   "cell_type": "code",
   "execution_count": 27,
   "id": "5d43895c-ae06-42e4-baf1-d8a1e2a33c30",
   "metadata": {},
   "outputs": [
    {
     "name": "stdout",
     "output_type": "stream",
     "text": [
      "You are connected via WiFi.\n"
     ]
    }
   ],
   "source": [
    "# Select internet connection type\n",
    "connection_type = \"WiFi\"\n",
    "if connection_type == \"WiFi\"\n",
    "    println(\"You are connected via WiFi.\")\n",
    "elseif connection_type == \"Mobile Data\"\n",
    "    println(\"You are connected via Mobile Data.\")\n",
    "else\n",
    "    println(\"No internet connection.\")\n",
    "end"
   ]
  },
  {
   "cell_type": "markdown",
   "id": "b4a7c852-731e-4cef-9f2a-cfe996afbc8d",
   "metadata": {},
   "source": [
    "### ternary Operator\n",
    "\n",
    "##### The ternary operator is a shorthand for simple if-else statements. It's used for returning values based on a condition."
   ]
  },
  {
   "cell_type": "code",
   "execution_count": 8,
   "id": "fa75844d-1fb1-44a8-a8f1-1e65c2a4f5aa",
   "metadata": {},
   "outputs": [
    {
     "name": "stdout",
     "output_type": "stream",
     "text": [
      "Adult\n"
     ]
    }
   ],
   "source": [
    "age = 25\n",
    "status = age >= 18 ? \"Adult\" : \"Minor\"\n",
    "println(status)"
   ]
  },
  {
   "cell_type": "code",
   "execution_count": 28,
   "id": "14a582c2-0383-455c-8512-1543e431c5c0",
   "metadata": {},
   "outputs": [
    {
     "name": "stdout",
     "output_type": "stream",
     "text": [
      "The number is Odd.\n"
     ]
    }
   ],
   "source": [
    "# Check if a number is even or odd\n",
    "num = 7\n",
    "result = (num % 2 == 0) ? \"Even\" : \"Odd\"\n",
    "println(\"The number is $result.\")"
   ]
  },
  {
   "cell_type": "code",
   "execution_count": 29,
   "id": "91899297-f6ac-43a2-ab6f-295c80b6b144",
   "metadata": {},
   "outputs": [
    {
     "name": "stdout",
     "output_type": "stream",
     "text": [
      "The larger number is 20.\n"
     ]
    }
   ],
   "source": [
    "# Find the maximum of two numbers\n",
    "a = 10\n",
    "b = 20\n",
    "max_num = (a > b) ? a : b\n",
    "println(\"The larger number is $max_num.\")"
   ]
  },
  {
   "cell_type": "markdown",
   "id": "655ae473-f0e5-4060-a38c-30693b94303a",
   "metadata": {},
   "source": [
    "## Project \n",
    "### Project Steps:\n",
    "#### Get the user's name.\n",
    "#### Get the user's age.\n",
    "#### Get the user's role (e.g., \"Admin\", \"Editor\", \"Viewer\").\n",
    "##### Use conditional statements to determine the access level:\n",
    "######    If the user is an **Admin** , they have full access.\n",
    "######    If the user is an **Editor** and their age is above 18, they have editing access.\n",
    "######    If the user is a **Viewer**, they have view-only access.\n",
    "######    If the user's role is not recognized, access is restricted."
   ]
  }
 ],
 "metadata": {
  "kernelspec": {
   "display_name": "Julia 1.11.1",
   "language": "julia",
   "name": "julia-1.11"
  },
  "language_info": {
   "file_extension": ".jl",
   "mimetype": "application/julia",
   "name": "julia",
   "version": "1.11.1"
  }
 },
 "nbformat": 4,
 "nbformat_minor": 5
}
