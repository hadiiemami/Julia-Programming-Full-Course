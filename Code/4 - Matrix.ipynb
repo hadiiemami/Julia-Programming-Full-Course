{
 "cells": [
  {
   "cell_type": "markdown",
   "id": "bf7a1c05-8bb1-423b-aae5-48b3369f5395",
   "metadata": {},
   "source": [
    "#### In Julia programming, matrices are a special type of array designed specifically for performing complex mathematical operations. Here, we'll explore how to work with matrices and perform various matrix operations in Julia.\n",
    "\n",
    "##### 1. Defining a Matrix\n",
    "##### To define a matrix in Julia, you use arrays, but matrices specifically need to be two-dimensional arrays (i.e., 2xN or NxM arrays)."
   ]
  },
  {
   "cell_type": "code",
   "execution_count": 1,
   "id": "0bc81a41-c9d3-46ca-8ab1-bb288749d911",
   "metadata": {},
   "outputs": [
    {
     "name": "stdout",
     "output_type": "stream",
     "text": [
      "[1 2 3; 4 5 6; 7 8 9]\n"
     ]
    }
   ],
   "source": [
    "# Creating a 3x3 matrix\n",
    "A = [1 2 3; 4 5 6; 7 8 9]  # 3x3 matrix\n",
    "println(A)"
   ]
  },
  {
   "cell_type": "markdown",
   "id": "791942dd-6e21-47d6-8870-83e8c174c5dd",
   "metadata": {},
   "source": [
    "#### 2. Matrix Operations"
   ]
  },
  {
   "cell_type": "markdown",
   "id": "6a4778ef-02a1-4889-a031-d51a08063a2b",
   "metadata": {},
   "source": [
    "##### 2.1 Matrix Addition and Subtraction"
   ]
  },
  {
   "cell_type": "code",
   "execution_count": 2,
   "id": "6bda5f0f-51b7-49b3-986d-05d78a6c3044",
   "metadata": {},
   "outputs": [
    {
     "name": "stdout",
     "output_type": "stream",
     "text": [
      "A + B = \n",
      "[10 10 10; 10 10 10; 10 10 10]\n",
      "A - B = \n",
      "[-8 -6 -4; -2 0 2; 4 6 8]\n"
     ]
    }
   ],
   "source": [
    "# Creating another matrix\n",
    "B = [9 8 7; 6 5 4; 3 2 1]\n",
    "\n",
    "# Matrix addition\n",
    "C = A + B\n",
    "println(\"A + B = \")\n",
    "println(C)\n",
    "\n",
    "# Matrix subtraction\n",
    "D = A - B\n",
    "println(\"A - B = \")\n",
    "println(D)"
   ]
  },
  {
   "cell_type": "markdown",
   "id": "0b455fa0-9c90-469b-98f3-123ce53269e6",
   "metadata": {},
   "source": [
    "##### 2.2 Matrix Multiplication (Dot Product)"
   ]
  },
  {
   "cell_type": "code",
   "execution_count": 3,
   "id": "792ac3cf-4572-4cbc-bb1e-3e754b3a4dc9",
   "metadata": {},
   "outputs": [
    {
     "name": "stdout",
     "output_type": "stream",
     "text": [
      "A * B = \n",
      "[30 24 18; 84 69 54; 138 114 90]\n"
     ]
    }
   ],
   "source": [
    "# Matrix multiplication (Dot product)\n",
    "E = A * B\n",
    "println(\"A * B = \")\n",
    "println(E)"
   ]
  },
  {
   "cell_type": "markdown",
   "id": "4e6ea876-4afe-4e6e-865a-1f011ffe42e6",
   "metadata": {},
   "source": [
    "##### 2.3 Matrix Transposition\n"
   ]
  },
  {
   "cell_type": "code",
   "execution_count": 4,
   "id": "5875ef22-0f99-4ce2-a7a4-feb5bfecebf4",
   "metadata": {},
   "outputs": [
    {
     "name": "stdout",
     "output_type": "stream",
     "text": [
      "Transpose of A = \n",
      "[1 4 7; 2 5 8; 3 6 9]\n"
     ]
    }
   ],
   "source": [
    "# Transpose of a matrix\n",
    "F = A'\n",
    "println(\"Transpose of A = \")\n",
    "println(F)"
   ]
  },
  {
   "cell_type": "markdown",
   "id": "d456982c-1e9a-40f7-8527-e225aa6ca83c",
   "metadata": {},
   "source": [
    "##### 2.4 Identity and Zero Matrices"
   ]
  },
  {
   "cell_type": "code",
   "execution_count": 13,
   "id": "3a18f7c3-8302-4a4f-a104-215acc11b5ca",
   "metadata": {},
   "outputs": [
    {
     "name": "stdout",
     "output_type": "stream",
     "text": [
      "Identity Matrix = \n",
      "Bool[1 0 0 0; 0 1 0 0; 0 0 1 0; 0 0 0 1]\n"
     ]
    }
   ],
   "source": [
    "# Import the LinearAlgebra package\n",
    "using LinearAlgebra\n",
    "\n",
    "# Create a 3x3 identity matrix\n",
    "I_matrix = I(4)  # Identity matrix of size 3x3\n",
    "println(\"Identity Matrix = \")\n",
    "println(I_matrix)"
   ]
  },
  {
   "cell_type": "markdown",
   "id": "944f93bb-f9ee-465a-b15e-ee9e66e179bd",
   "metadata": {},
   "source": [
    "#### 3. Matrix Operations with Vectors"
   ]
  },
  {
   "cell_type": "code",
   "execution_count": 14,
   "id": "b04768e0-5345-4ceb-a8ea-ffb64c2a7709",
   "metadata": {},
   "outputs": [
    {
     "name": "stdout",
     "output_type": "stream",
     "text": [
      "A * v = \n",
      "[14, 32, 50]\n"
     ]
    }
   ],
   "source": [
    "# Creating a vector\n",
    "v = [1, 2, 3]\n",
    "\n",
    "# Matrix-vector multiplication\n",
    "result = A * v\n",
    "println(\"A * v = \")\n",
    "println(result)"
   ]
  },
  {
   "cell_type": "markdown",
   "id": "0b978f92-fc5b-4702-a864-4ffb7d69b4b8",
   "metadata": {},
   "source": [
    "#### 4. Advanced Matrix Computations"
   ]
  },
  {
   "cell_type": "markdown",
   "id": "1269d38c-c7be-4f2b-87aa-ec431df333f9",
   "metadata": {},
   "source": [
    "##### 4.1 Matrix Inversion"
   ]
  },
  {
   "cell_type": "code",
   "execution_count": 17,
   "id": "dbc90e7f-b972-4f7c-9c37-0b642283bce0",
   "metadata": {},
   "outputs": [
    {
     "name": "stdout",
     "output_type": "stream",
     "text": [
      "Pseudo-inverse of A: \n",
      "[-0.6388888888888883 -0.16666666666666602 0.30555555555555514; -0.0555555555555556 4.163336342344337e-17 0.05555555555555558; 0.5277777777777772 0.1666666666666661 -0.19444444444444398]\n"
     ]
    }
   ],
   "source": [
    "A_pinv = pinv(A)\n",
    "println(\"Pseudo-inverse of A: \")\n",
    "println(A_pinv)"
   ]
  },
  {
   "cell_type": "markdown",
   "id": "916e3779-bb02-4d60-89e4-e4c141ad8932",
   "metadata": {},
   "source": [
    "##### 4.2 Matrix Determinant"
   ]
  },
  {
   "cell_type": "code",
   "execution_count": 16,
   "id": "32e92577-6d93-4ebe-a965-f5215c7d5af9",
   "metadata": {},
   "outputs": [
    {
     "name": "stdout",
     "output_type": "stream",
     "text": [
      "Determinant of A = 0.0\n"
     ]
    }
   ],
   "source": [
    "# Determinant of a matrix\n",
    "det_A = det(A)\n",
    "println(\"Determinant of A = $det_A\")"
   ]
  },
  {
   "cell_type": "markdown",
   "id": "f377b2b2-364e-411d-8493-d5775d0b015e",
   "metadata": {},
   "source": [
    "#### 5. Real-World Applications\n",
    "##### Let's say you need to solve a system of linear equations. These systems are often represented as matrices. For example, solving the equation:\n",
    "\n",
    "#### Solving a System of Linear Equations"
   ]
  },
  {
   "cell_type": "code",
   "execution_count": 18,
   "id": "f39a0ece-c644-4f00-b897-d517134a57e6",
   "metadata": {},
   "outputs": [
    {
     "name": "stdout",
     "output_type": "stream",
     "text": [
      "Solution to the system of equations: x = \n",
      "[-0.5, 3.25]\n"
     ]
    }
   ],
   "source": [
    "# System of equations: Ax = b\n",
    "A = [3 2; 1 2]\n",
    "b = [5, 6]\n",
    "\n",
    "# Solving for x\n",
    "x = A \\ b  # This is equivalent to inv(A) * b\n",
    "println(\"Solution to the system of equations: x = \")\n",
    "println(x)"
   ]
  },
  {
   "cell_type": "code",
   "execution_count": null,
   "id": "e1e8e9c2-1b34-47bf-8343-20075eb801d9",
   "metadata": {},
   "outputs": [],
   "source": []
  }
 ],
 "metadata": {
  "kernelspec": {
   "display_name": "Julia 1.11.1",
   "language": "julia",
   "name": "julia-1.11"
  },
  "language_info": {
   "file_extension": ".jl",
   "mimetype": "application/julia",
   "name": "julia",
   "version": "1.11.1"
  }
 },
 "nbformat": 4,
 "nbformat_minor": 5
}
