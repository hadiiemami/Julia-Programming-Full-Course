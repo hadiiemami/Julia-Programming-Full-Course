{
 "cells": [
  {
   "cell_type": "markdown",
   "id": "7ca96549-b203-4b72-8a6a-748a0d1ae28d",
   "metadata": {},
   "source": [
    "##### In Julia, dictionaries are a powerful way to store and manage key-value pairs, allowing you to efficiently access values based on their associated keys. Dictionaries are similar to maps or hash tables in other programming languages.\n",
    "\n",
    "#### Creating a Dictionary\n",
    "##### To create a dictionary in Julia, you can use the Dict() constructor:\n",
    "\n",
    "###### Creating an empty dictionary\n",
    "###### my_dict = Dict()\n"
   ]
  },
  {
   "cell_type": "code",
   "execution_count": 8,
   "id": "56129193-c931-4dfc-b404-0d674506f4f8",
   "metadata": {},
   "outputs": [
    {
     "name": "stdout",
     "output_type": "stream",
     "text": [
      "3\n"
     ]
    }
   ],
   "source": [
    "# Creating a dictionary with initial key-value pairs\n",
    "my_dict = Dict(\"apple\" => 3, \"banana\" => 5, \"orange\" => 2)\n",
    "# Accessing a value using the key\n",
    "println(my_dict[\"apple\"])  # Output: 3"
   ]
  },
  {
   "cell_type": "markdown",
   "id": "1ebe5835-0efc-486e-848f-bef0721d96f1",
   "metadata": {},
   "source": [
    "#### Adding and Updating Entries"
   ]
  },
  {
   "cell_type": "code",
   "execution_count": 9,
   "id": "f3a8292d-eac9-4ad6-a1b2-c48c349ecb28",
   "metadata": {},
   "outputs": [
    {
     "data": {
      "text/plain": [
       "6"
      ]
     },
     "execution_count": 9,
     "metadata": {},
     "output_type": "execute_result"
    }
   ],
   "source": [
    "# Adding a new key-value pair\n",
    "my_dict[\"grape\"] = 4\n",
    "\n",
    "# Updating the value for an existing key\n",
    "my_dict[\"apple\"] = 6"
   ]
  },
  {
   "cell_type": "code",
   "execution_count": 10,
   "id": "0ece2d8d-6393-444a-935b-bd9784bc7d2a",
   "metadata": {},
   "outputs": [
    {
     "data": {
      "text/plain": [
       "Dict{String, Int64} with 4 entries:\n",
       "  \"orange\" => 2\n",
       "  \"banana\" => 5\n",
       "  \"apple\"  => 6\n",
       "  \"grape\"  => 4"
      ]
     },
     "execution_count": 10,
     "metadata": {},
     "output_type": "execute_result"
    }
   ],
   "source": [
    "my_dict"
   ]
  },
  {
   "cell_type": "markdown",
   "id": "eb6afb07-288f-4ccf-8c91-4d1fa870856a",
   "metadata": {},
   "source": [
    "#### Removing Entries"
   ]
  },
  {
   "cell_type": "code",
   "execution_count": 11,
   "id": "f7e21614-4a72-4be0-af01-530141d49dc9",
   "metadata": {},
   "outputs": [
    {
     "data": {
      "text/plain": [
       "Dict{String, Int64} with 3 entries:\n",
       "  \"orange\" => 2\n",
       "  \"apple\"  => 6\n",
       "  \"grape\"  => 4"
      ]
     },
     "execution_count": 11,
     "metadata": {},
     "output_type": "execute_result"
    }
   ],
   "source": [
    "# Removing an entry by key\n",
    "delete!(my_dict, \"banana\")"
   ]
  },
  {
   "cell_type": "markdown",
   "id": "5e158ef0-afa5-43a3-b9c5-54cdc5e406a8",
   "metadata": {},
   "source": [
    "#### Checking if a Key Exists"
   ]
  },
  {
   "cell_type": "code",
   "execution_count": 13,
   "id": "0754e8ac-980e-48ae-aebb-f2f4cef73683",
   "metadata": {},
   "outputs": [
    {
     "name": "stdout",
     "output_type": "stream",
     "text": [
      "Apple is in the dictionary!\n"
     ]
    }
   ],
   "source": [
    "# Checking if a key exists\n",
    "if haskey(my_dict, \"apple\")\n",
    "    println(\"Apple is in the dictionary!\")\n",
    "else\n",
    "    println(\"Apple is not in the dictionary.\")\n",
    "end"
   ]
  },
  {
   "cell_type": "markdown",
   "id": "f42dfc0d-8e76-473a-a998-548c693ba9f3",
   "metadata": {},
   "source": [
    "#### Iterating Over a Dictionary\n"
   ]
  },
  {
   "cell_type": "code",
   "execution_count": 14,
   "id": "fc814b15-3284-4f36-b2e4-2b096e597aad",
   "metadata": {},
   "outputs": [
    {
     "name": "stdout",
     "output_type": "stream",
     "text": [
      "Key: orange, Value: 2\n",
      "Key: apple, Value: 6\n",
      "Key: grape, Value: 4\n"
     ]
    }
   ],
   "source": [
    "# Iterating over keys and values\n",
    "for (key, value) in my_dict\n",
    "    println(\"Key: $key, Value: $value\")\n",
    "end"
   ]
  },
  {
   "cell_type": "markdown",
   "id": "4763cd8e-7435-4d2e-8a18-35be40c23f16",
   "metadata": {},
   "source": [
    "### Project : Contact Book in Julia"
   ]
  },
  {
   "cell_type": "code",
   "execution_count": 18,
   "id": "5a426813-9fec-41cd-b4fe-a86cc8df302f",
   "metadata": {},
   "outputs": [
    {
     "data": {
      "text/plain": [
       "display_contacts (generic function with 1 method)"
      ]
     },
     "execution_count": 18,
     "metadata": {},
     "output_type": "execute_result"
    }
   ],
   "source": [
    "# Creating a contact book dictionary in Julia\n",
    "contact_book = Dict(\n",
    "    \"John Doe\" => \"+123456789\",\n",
    "    \"Jane Smith\" => \"+987654321\",\n",
    "    \"Alice Johnson\" => \"+1122334455\"\n",
    ")\n",
    "\n",
    "# Function to add a new contact\n",
    "function add_contact(name::String, phone_number::String)\n",
    "    contact_book[name] = phone_number\n",
    "    println(\"Contact added: $name - $phone_number\")\n",
    "end\n",
    "\n",
    "# Function to remove a contact\n",
    "function remove_contact(name::String)\n",
    "    if haskey(contact_book, name)\n",
    "        delete!(contact_book, name)\n",
    "        println(\"Contact removed: $name\")\n",
    "    else\n",
    "        println(\"Contact with name $name not found.\")\n",
    "    end\n",
    "end\n",
    "\n",
    "# Function to update a contact's phone number\n",
    "function update_contact(name::String, new_phone_number::String)\n",
    "    if haskey(contact_book, name)\n",
    "        contact_book[name] = new_phone_number\n",
    "        println(\"Contact updated: $name - $new_phone_number\")\n",
    "    else\n",
    "        println(\"Contact with name $name not found.\")\n",
    "    end\n",
    "end\n",
    "\n",
    "# Function to display all contacts\n",
    "function display_contacts()\n",
    "    println(\"Contact Book:\")\n",
    "    for (name, phone_number) in contact_book\n",
    "        println(\"$name: $phone_number\")\n",
    "    end\n",
    "end"
   ]
  },
  {
   "cell_type": "code",
   "execution_count": 19,
   "id": "50fc3d00-4a0f-427b-b6e4-664bad65be64",
   "metadata": {},
   "outputs": [
    {
     "name": "stdout",
     "output_type": "stream",
     "text": [
      "Contact added: Bob White - +3344556677\n"
     ]
    }
   ],
   "source": [
    "# Adding a new contact\n",
    "add_contact(\"Bob White\", \"+3344556677\")"
   ]
  },
  {
   "cell_type": "code",
   "execution_count": 20,
   "id": "1ccf285f-b320-4e43-8485-80d983cd484e",
   "metadata": {},
   "outputs": [
    {
     "name": "stdout",
     "output_type": "stream",
     "text": [
      "Contact updated: Jane Smith - +9191919191\n"
     ]
    }
   ],
   "source": [
    "# Updating an existing contact's phone number\n",
    "update_contact(\"Jane Smith\", \"+9191919191\")"
   ]
  },
  {
   "cell_type": "code",
   "execution_count": 21,
   "id": "72a5a427-5c47-40d7-a29a-d29bfc5d9686",
   "metadata": {},
   "outputs": [
    {
     "name": "stdout",
     "output_type": "stream",
     "text": [
      "Contact removed: Alice Johnson\n"
     ]
    }
   ],
   "source": [
    "# Removing a contact\n",
    "remove_contact(\"Alice Johnson\")"
   ]
  },
  {
   "cell_type": "code",
   "execution_count": 22,
   "id": "02a2b165-3553-46be-b803-00025b7da23f",
   "metadata": {},
   "outputs": [
    {
     "name": "stdout",
     "output_type": "stream",
     "text": [
      "Contact Book:\n",
      "Jane Smith: +9191919191\n",
      "John Doe: +123456789\n",
      "Bob White: +3344556677\n"
     ]
    }
   ],
   "source": [
    "# Displaying all contacts\n",
    "display_contacts()"
   ]
  },
  {
   "cell_type": "code",
   "execution_count": null,
   "id": "11af6303-538a-4713-865e-1adee2bf6854",
   "metadata": {},
   "outputs": [],
   "source": []
  },
  {
   "cell_type": "code",
   "execution_count": null,
   "id": "7b1991e4-7af0-4600-ac4c-6a700de77bb6",
   "metadata": {},
   "outputs": [],
   "source": []
  },
  {
   "cell_type": "code",
   "execution_count": null,
   "id": "972d0f98-16f6-45a7-82e3-ae99f88fcb6c",
   "metadata": {},
   "outputs": [],
   "source": []
  },
  {
   "cell_type": "code",
   "execution_count": null,
   "id": "8f0fdfdc-f0ec-4870-882d-734354d76af5",
   "metadata": {},
   "outputs": [],
   "source": []
  }
 ],
 "metadata": {
  "kernelspec": {
   "display_name": "Julia 1.11.1",
   "language": "julia",
   "name": "julia-1.11"
  },
  "language_info": {
   "file_extension": ".jl",
   "mimetype": "application/julia",
   "name": "julia",
   "version": "1.11.1"
  }
 },
 "nbformat": 4,
 "nbformat_minor": 5
}
