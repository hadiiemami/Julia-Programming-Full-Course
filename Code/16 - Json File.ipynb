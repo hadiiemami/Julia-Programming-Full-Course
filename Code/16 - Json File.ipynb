{
 "cells": [
  {
   "cell_type": "code",
   "execution_count": 4,
   "id": "1fe4ff7c-8659-409c-8356-c2cf76861e57",
   "metadata": {},
   "outputs": [
    {
     "name": "stderr",
     "output_type": "stream",
     "text": [
      "\u001b[32m\u001b[1m   Resolving\u001b[22m\u001b[39m package versions...\n",
      "\u001b[32m\u001b[1m   Installed\u001b[22m\u001b[39m StructTypes ─ v1.11.0\n",
      "\u001b[32m\u001b[1m   Installed\u001b[22m\u001b[39m JSON3 ─────── v1.14.1\n",
      "\u001b[32m\u001b[1m    Updating\u001b[22m\u001b[39m `C:\\Users\\ESG\\.julia\\environments\\v1.11\\Project.toml`\n",
      "  \u001b[90m[0f8b85d8] \u001b[39m\u001b[92m+ JSON3 v1.14.1\u001b[39m\n",
      "\u001b[32m\u001b[1m    Updating\u001b[22m\u001b[39m `C:\\Users\\ESG\\.julia\\environments\\v1.11\\Manifest.toml`\n",
      "  \u001b[90m[0f8b85d8] \u001b[39m\u001b[92m+ JSON3 v1.14.1\u001b[39m\n",
      "  \u001b[90m[856f2bd8] \u001b[39m\u001b[92m+ StructTypes v1.11.0\u001b[39m\n",
      "\u001b[92m\u001b[1mPrecompiling\u001b[22m\u001b[39m project...\n",
      "   6279.7 ms\u001b[32m  ✓ \u001b[39m\u001b[90mStructTypes\u001b[39m\n",
      "  96771.2 ms\u001b[32m  ✓ \u001b[39mJSON3\n",
      "  2 dependencies successfully precompiled in 112 seconds. 260 already precompiled.\n"
     ]
    }
   ],
   "source": [
    "using Pkg\n",
    "Pkg.add(\"JSON3\")"
   ]
  },
  {
   "cell_type": "code",
   "execution_count": 6,
   "id": "6eb559ed-eab2-4b61-85d0-bc911502feea",
   "metadata": {},
   "outputs": [
    {
     "data": {
      "text/plain": [
       "JSON3.Object{Base.CodeUnits{UInt8, String}, Vector{UInt64}} with 4 entries:\n",
       "  :name    => \"John Doe\"\n",
       "  :age     => 30\n",
       "  :skills  => [\"Julia\", \"Python\", \"R\"]\n",
       "  :details => {…"
      ]
     },
     "execution_count": 6,
     "metadata": {},
     "output_type": "execute_result"
    }
   ],
   "source": [
    "using JSON3\n",
    "\n",
    "# Load the JSON file\n",
    "file_path = \"D:/Learn/Julia Programming/Attachment/File Handling/sample1.json\"\n",
    "json_data = JSON3.read(open(file_path))"
   ]
  },
  {
   "cell_type": "code",
   "execution_count": 7,
   "id": "524538d2-d5a4-4861-ad1e-cd81c1e1d5bd",
   "metadata": {},
   "outputs": [
    {
     "name": "stdout",
     "output_type": "stream",
     "text": [
      "Name: John Doe\n",
      "Age: 30\n",
      "Skills: [\"Julia\", \"Python\", \"R\"]\n"
     ]
    }
   ],
   "source": [
    "\n",
    "# Access data in the JSON object\n",
    "println(\"Name: \", json_data[\"name\"])\n",
    "println(\"Age: \", json_data[\"age\"])\n",
    "println(\"Skills: \", json_data[\"skills\"])"
   ]
  },
  {
   "cell_type": "code",
   "execution_count": 13,
   "id": "48453e85-4190-47f7-be91-97c9762d7e71",
   "metadata": {},
   "outputs": [
    {
     "name": "stdout",
     "output_type": "stream",
     "text": [
      "City: New York\n",
      "Job: Data Scientist\n"
     ]
    }
   ],
   "source": [
    "\n",
    "# Access nested objects\n",
    "details = json_data[\"details\"]\n",
    "println(\"City: \", details[\"city\"])\n",
    "println(\"Job: \", details[\"job\"])"
   ]
  },
  {
   "cell_type": "code",
   "execution_count": 14,
   "id": "1b456c7f-163e-4866-85e8-26621f3b9197",
   "metadata": {},
   "outputs": [
    {
     "data": {
      "text/plain": [
       "Dict{Symbol, Any} with 4 entries:\n",
       "  :age     => 30\n",
       "  :name    => \"John Doe\"\n",
       "  :skills  => [\"Julia\", \"Python\", \"R\"]\n",
       "  :details => {…"
      ]
     },
     "execution_count": 14,
     "metadata": {},
     "output_type": "execute_result"
    }
   ],
   "source": [
    "# Convert JSON3.Object to a mutable Dict\n",
    "mutable_data = Dict(Symbol(k) => v for (k, v) in pairs(json_data))"
   ]
  },
  {
   "cell_type": "code",
   "execution_count": 16,
   "id": "cdae6acd-a4bf-41de-a6a7-a92cf5e25a90",
   "metadata": {},
   "outputs": [
    {
     "data": {
      "text/plain": [
       "3-element Vector{String}:\n",
       " \"Julia\"\n",
       " \"Python\"\n",
       " \"R\""
      ]
     },
     "execution_count": 16,
     "metadata": {},
     "output_type": "execute_result"
    }
   ],
   "source": [
    "# Convert the \"skills\" field (JSON3.Array) to a mutable Vector\n",
    "mutable_data[:skills] = collect(mutable_data[:skills])"
   ]
  },
  {
   "cell_type": "code",
   "execution_count": 17,
   "id": "86b0380e-50af-401e-afb7-b23a78f47f61",
   "metadata": {},
   "outputs": [
    {
     "data": {
      "text/plain": [
       "4-element Vector{String}:\n",
       " \"Julia\"\n",
       " \"Python\"\n",
       " \"R\"\n",
       " \"Machine Learning\""
      ]
     },
     "execution_count": 17,
     "metadata": {},
     "output_type": "execute_result"
    }
   ],
   "source": [
    "# Modify the data\n",
    "mutable_data[:age] = 31  # Update age\n",
    "push!(mutable_data[:skills], \"Machine Learning\")  # Add a new skill"
   ]
  },
  {
   "cell_type": "code",
   "execution_count": 18,
   "id": "80e8f396-57c2-4647-8123-4254ac1f1599",
   "metadata": {},
   "outputs": [
    {
     "name": "stdout",
     "output_type": "stream",
     "text": [
      "Updated JSON saved to updated_data.json!\n"
     ]
    }
   ],
   "source": [
    "# Save the updated data back to a JSON file\n",
    "open(\"D:/Learn/Julia Programming/Attachment/File Handling/Output/updated_data.json\", \"w\") do f\n",
    "    JSON3.write(f, mutable_data)\n",
    "end\n",
    "\n",
    "println(\"Updated JSON saved to updated_data.json!\")"
   ]
  },
  {
   "cell_type": "code",
   "execution_count": null,
   "id": "eec6b1da-d5ef-41f7-a43f-f8aa240a5673",
   "metadata": {},
   "outputs": [],
   "source": []
  }
 ],
 "metadata": {
  "kernelspec": {
   "display_name": "Julia 1.11.1",
   "language": "julia",
   "name": "julia-1.11"
  },
  "language_info": {
   "file_extension": ".jl",
   "mimetype": "application/julia",
   "name": "julia",
   "version": "1.11.1"
  }
 },
 "nbformat": 4,
 "nbformat_minor": 5
}
