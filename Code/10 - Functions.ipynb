{
 "cells": [
  {
   "cell_type": "markdown",
   "id": "f72647ca-e24c-49a4-a9fb-24063733036b",
   "metadata": {},
   "source": [
    "## Function\n",
    "#### Syntax"
   ]
  },
  {
   "cell_type": "raw",
   "id": "a47c667f-d8dc-43e1-847f-e07230d2319f",
   "metadata": {},
   "source": [
    "function function_name(arguments)\n",
    "    # body of the function\n",
    "    return result\n",
    "end"
   ]
  },
  {
   "cell_type": "code",
   "execution_count": 1,
   "id": "3620222f-44c6-49f7-bc20-9d1cbd8ab04d",
   "metadata": {},
   "outputs": [
    {
     "name": "stdout",
     "output_type": "stream",
     "text": [
      "The sum is: 12\n"
     ]
    }
   ],
   "source": [
    "# Define a function that adds two numbers\n",
    "function add_numbers(a, b)\n",
    "    return a + b\n",
    "end\n",
    "\n",
    "# Call the function\n",
    "result = add_numbers(5, 7)\n",
    "println(\"The sum is: $result\")"
   ]
  },
  {
   "cell_type": "markdown",
   "id": "1ae1f73a-e6d5-480b-a52b-040b8fc6f6b1",
   "metadata": {},
   "source": [
    "#### Default arguments"
   ]
  },
  {
   "cell_type": "code",
   "execution_count": 5,
   "id": "55e0b6ed-8503-4e7c-a88d-ce756c80ed81",
   "metadata": {},
   "outputs": [
    {
     "name": "stdout",
     "output_type": "stream",
     "text": [
      "Hello, Ali\n",
      "Hi, Sara\n"
     ]
    }
   ],
   "source": [
    "# Define a function with default argument values\n",
    "function greet(name, greeting=\"Hello\")\n",
    "    println(\"$greeting, $name\")\n",
    "end\n",
    "\n",
    "# Call the function with and without the optional argument\n",
    "greet(\"Ali\")         # Uses the default greeting\n",
    "greet(\"Sara\", \"Hi\")  # Custom greeting"
   ]
  },
  {
   "cell_type": "markdown",
   "id": "231311ba-0953-43a9-9f05-498711682f7f",
   "metadata": {},
   "source": [
    "#### Multiple return values"
   ]
  },
  {
   "cell_type": "code",
   "execution_count": 8,
   "id": "740b11fc-fb49-4f04-98bd-742ab952584d",
   "metadata": {},
   "outputs": [
    {
     "name": "stdout",
     "output_type": "stream",
     "text": [
      "Sum: 9\n",
      "Product: 20\n"
     ]
    }
   ],
   "source": [
    "# Define a function that returns multiple values\n",
    "function calculate(a, b)\n",
    "    sum = a + b\n",
    "    product = a * b\n",
    "    return sum, product\n",
    "end\n",
    "\n",
    "# Call the function and capture the returned values\n",
    "sum_result, product_result = calculate(4, 5)\n",
    "\n",
    "println(\"Sum: $sum_result\")\n",
    "println(\"Product: $product_result\")"
   ]
  },
  {
   "cell_type": "markdown",
   "id": "5cdf6ef0-ecb6-4219-a44a-1df83cb9c273",
   "metadata": {},
   "source": [
    "#### Recursive Functions"
   ]
  },
  {
   "cell_type": "code",
   "execution_count": 9,
   "id": "31e0f28e-4d57-4a93-946e-6069dacf0e26",
   "metadata": {},
   "outputs": [
    {
     "name": "stdout",
     "output_type": "stream",
     "text": [
      "Factorial of 5 is: 120\n"
     ]
    }
   ],
   "source": [
    "# Define a recursive function to calculate the factorial of a number\n",
    "function factorial(n)\n",
    "    if n == 0\n",
    "        return 1\n",
    "    else\n",
    "        return n * factorial(n-1)\n",
    "    end\n",
    "end\n",
    "\n",
    "# Call the function\n",
    "result = factorial(5)\n",
    "println(\"Factorial of 5 is: $result\")"
   ]
  },
  {
   "cell_type": "markdown",
   "id": "e78c0b48-565c-4e06-82ab-6060b2a7214a",
   "metadata": {},
   "source": [
    "##### Example 1: Circle Area Function"
   ]
  },
  {
   "cell_type": "code",
   "execution_count": 10,
   "id": "a58b5967-2860-4f0f-9c44-6e02549f6043",
   "metadata": {},
   "outputs": [
    {
     "name": "stdout",
     "output_type": "stream",
     "text": [
      "Area of the circle with radius 5: 78.53981633974483\n"
     ]
    }
   ],
   "source": [
    "# Function to calculate the area of a circle\n",
    "function circle_area(radius)\n",
    "    area = π * radius^2  # Using the formula π * r^2\n",
    "    return area\n",
    "end\n",
    "\n",
    "# Call the function with a radius of 5\n",
    "radius = 5\n",
    "println(\"Area of the circle with radius $radius: \", circle_area(radius))"
   ]
  },
  {
   "cell_type": "markdown",
   "id": "a55b7303-6cdd-4750-bc1e-9b2793048499",
   "metadata": {},
   "source": [
    "##### Example 2: Tax Calculation Function"
   ]
  },
  {
   "cell_type": "code",
   "execution_count": 11,
   "id": "7dbf4bb4-be1c-4252-abf8-a698d6480384",
   "metadata": {},
   "outputs": [
    {
     "name": "stdout",
     "output_type": "stream",
     "text": [
      "The tax for an income of $50000 with a tax rate of 20% is: $10000.0\n"
     ]
    }
   ],
   "source": [
    "# Function to calculate tax based on income and tax rate\n",
    "function calculate_tax(income, tax_rate)\n",
    "    tax = income * (tax_rate / 100)  # Calculating tax as a percentage of income\n",
    "    return tax\n",
    "end\n",
    "\n",
    "# Call the function with income of 50,000 and tax rate of 20%\n",
    "income = 50000\n",
    "tax_rate = 20\n",
    "println(\"The tax for an income of \\$$(income) with a tax rate of $(tax_rate)% is: \\$$(calculate_tax(income, tax_rate))\")"
   ]
  },
  {
   "cell_type": "markdown",
   "id": "f3dfaad2-193f-497e-a235-27d4b056e559",
   "metadata": {},
   "source": [
    "##### Example 3: Celsius to Fahrenheit Conversion Function"
   ]
  },
  {
   "cell_type": "code",
   "execution_count": 13,
   "id": "a4a2851a-9911-4e76-88eb-516dc86173be",
   "metadata": {},
   "outputs": [
    {
     "name": "stdout",
     "output_type": "stream",
     "text": [
      "25 °C is equal to 77.0°F\n"
     ]
    }
   ],
   "source": [
    "# Function to convert temperature from Celsius to Fahrenheit\n",
    "function celsius_to_fahrenheit(celsius)\n",
    "    fahrenheit = (celsius * 9/5) + 32  # Using the conversion formula: F = (C * 9/5) + 32\n",
    "    return fahrenheit\n",
    "end\n",
    "\n",
    "# Call the function with a temperature of 25°C\n",
    "celsius = 25\n",
    "println(\"$celsius °C is equal to $(celsius_to_fahrenheit(celsius))°F\")"
   ]
  },
  {
   "cell_type": "markdown",
   "id": "1fb2b2cb-9caa-4c1e-87ea-1488457d495f",
   "metadata": {},
   "source": [
    "##### Example 4: Find the Largest Number in a List"
   ]
  },
  {
   "cell_type": "code",
   "execution_count": 14,
   "id": "1e9406e3-bccc-42f4-a426-1c0988b2e520",
   "metadata": {},
   "outputs": [
    {
     "name": "stdout",
     "output_type": "stream",
     "text": [
      "The largest number in the list is: 8\n"
     ]
    }
   ],
   "source": [
    "# Function to find the largest number in a list\n",
    "function find_max(numbers)\n",
    "    return maximum(numbers)  # Using the built-in maximum function to find the largest number\n",
    "end\n",
    "\n",
    "# Call the function with a list of numbers\n",
    "numbers = [2, 5, 8, 3, 1]\n",
    "println(\"The largest number in the list is: \", find_max(numbers))"
   ]
  },
  {
   "cell_type": "markdown",
   "id": "180a9a0a-4deb-49e9-aa25-977955e7a071",
   "metadata": {},
   "source": [
    "##### Example 5: Check if a Number is Even or Odd"
   ]
  },
  {
   "cell_type": "code",
   "execution_count": 15,
   "id": "3b574d32-2375-4b47-bd36-2f59692a425d",
   "metadata": {},
   "outputs": [
    {
     "name": "stdout",
     "output_type": "stream",
     "text": [
      "The number 7 is: Odd\n"
     ]
    }
   ],
   "source": [
    "# Function to check if a number is even or odd\n",
    "function check_even_odd(number)\n",
    "    if number % 2 == 0  # If the remainder of the number divided by 2 is 0, it is even\n",
    "        return \"Even\"\n",
    "    else\n",
    "        return \"Odd\"  # If not, it's odd\n",
    "    end\n",
    "end\n",
    "\n",
    "# Call the function with the number 7\n",
    "number = 7\n",
    "println(\"The number $number is: \", check_even_odd(number))"
   ]
  }
 ],
 "metadata": {
  "kernelspec": {
   "display_name": "Julia 1.11.1",
   "language": "julia",
   "name": "julia-1.11"
  },
  "language_info": {
   "file_extension": ".jl",
   "mimetype": "application/julia",
   "name": "julia",
   "version": "1.11.1"
  }
 },
 "nbformat": 4,
 "nbformat_minor": 5
}
