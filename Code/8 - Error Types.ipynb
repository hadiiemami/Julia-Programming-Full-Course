{
 "cells": [
  {
   "cell_type": "markdown",
   "id": "7297841b-f937-4864-b5ac-c0f4fd205d36",
   "metadata": {},
   "source": [
    "### Types of Errors in Julia\n",
    "##### In Julia, errors occur when a program encounters a situation it cannot execute properly. These errors range from syntax mistakes to runtime issues like division by zero or accessing undefined variables. Julia provides specific error types to help identify and resolve problems.\n",
    "\n",
    "#### 1. ParseError"
   ]
  },
  {
   "cell_type": "code",
   "execution_count": 16,
   "id": "83d235f0-e241-4757-9fa5-252443138531",
   "metadata": {},
   "outputs": [
    {
     "ename": "LoadError",
     "evalue": "ParseError:\n\u001b[90m# Error @ \u001b[0;0m\u001b]8;;file://C:/Users/ESG/In[16]#3:1\u001b\\\u001b[90mIn[16]:3:1\u001b[0;0m\u001b]8;;\u001b\\\n    println(\"5 is greater than 3\"\n\u001b[48;2;120;70;70m\u001b[0;0mend\n\u001b[90m└ ── \u001b[0;0m\u001b[91mExpected `)`\u001b[0;0m",
     "output_type": "error",
     "traceback": [
      "ParseError:\n\u001b[90m# Error @ \u001b[0;0m\u001b]8;;file://C:/Users/ESG/In[16]#3:1\u001b\\\u001b[90mIn[16]:3:1\u001b[0;0m\u001b]8;;\u001b\\\n    println(\"5 is greater than 3\"\n\u001b[48;2;120;70;70m\u001b[0;0mend\n\u001b[90m└ ── \u001b[0;0m\u001b[91mExpected `)`\u001b[0;0m",
      "",
      "Stacktrace:",
      " [1] top-level scope",
      "   @ In[16]:3"
     ]
    }
   ],
   "source": [
    "if 5 > 3\n",
    "    println(\"5 is greater than 3\"\n",
    "end\n"
   ]
  },
  {
   "cell_type": "markdown",
   "id": "499456db-4a41-4115-ab1f-bdddced1066b",
   "metadata": {},
   "source": [
    "#### 2. UndefVarError\n",
    "\n",
    "##### Raised when trying to access a variable or function that has not been defined.\n",
    "\n"
   ]
  },
  {
   "cell_type": "code",
   "execution_count": 1,
   "id": "503409a4-f6ea-499e-96e2-402f3ff06989",
   "metadata": {},
   "outputs": [
    {
     "ename": "LoadError",
     "evalue": "UndefVarError: `a` not defined in `Main`\nSuggestion: check for spelling errors or missing imports.",
     "output_type": "error",
     "traceback": [
      "UndefVarError: `a` not defined in `Main`\nSuggestion: check for spelling errors or missing imports.",
      "",
      "Stacktrace:",
      " [1] top-level scope",
      "   @ In[1]:2"
     ]
    }
   ],
   "source": [
    "# Example of UndefVarError\n",
    "print(a)  # x is not defined"
   ]
  },
  {
   "cell_type": "markdown",
   "id": "34c3454b-7804-49d2-9541-f37bd978f041",
   "metadata": {},
   "source": [
    "#### 3. TypeError\n"
   ]
  },
  {
   "cell_type": "code",
   "execution_count": 7,
   "id": "ebc8b8f0-5a41-401b-abae-220a8a722092",
   "metadata": {},
   "outputs": [
    {
     "ename": "TypeError",
     "evalue": "can only concatenate str (not \"int\") to str",
     "output_type": "error",
     "traceback": [
      "\u001b[1;31m---------------------------------------------------------------------------\u001b[0m",
      "\u001b[1;31mTypeError\u001b[0m                                 Traceback (most recent call last)",
      "Cell \u001b[1;32mIn[7], line 2\u001b[0m\n\u001b[0;32m      1\u001b[0m \u001b[38;5;66;03m# Example of TypeError\u001b[39;00m\n\u001b[1;32m----> 2\u001b[0m \u001b[38;5;28mprint\u001b[39m(\u001b[38;5;124;43m\"\u001b[39;49m\u001b[38;5;124;43mThe result is: \u001b[39;49m\u001b[38;5;124;43m\"\u001b[39;49m\u001b[43m \u001b[49m\u001b[38;5;241;43m+\u001b[39;49m\u001b[43m \u001b[49m\u001b[38;5;241;43m42\u001b[39;49m)  \u001b[38;5;66;03m# Concatenating a string with an integer\u001b[39;00m\n",
      "\u001b[1;31mTypeError\u001b[0m: can only concatenate str (not \"int\") to str"
     ]
    }
   ],
   "source": [
    "# Example of TypeError\n",
    "print(\"The result is: \" + 42)  # Concatenating a string with an integer"
   ]
  },
  {
   "cell_type": "markdown",
   "id": "f06184c8-86ad-4016-8ed4-bfc0b5cfb7df",
   "metadata": {},
   "source": [
    "#### Method Error"
   ]
  },
  {
   "cell_type": "code",
   "execution_count": 8,
   "id": "cc37c04f-9767-471b-8800-182e76b376f5",
   "metadata": {},
   "outputs": [
    {
     "ename": "LoadError",
     "evalue": "MethodError: no method matching sqrt(::String)\nThe function `sqrt` exists, but no method is defined for this combination of argument types.\n\n\u001b[0mClosest candidates are:\n\u001b[0m  sqrt(\u001b[91m::BigInt\u001b[39m)\n\u001b[0m\u001b[90m   @\u001b[39m \u001b[90mBase\u001b[39m \u001b[90m\u001b[4mmpfr.jl:703\u001b[24m\u001b[39m\n\u001b[0m  sqrt(\u001b[91m::ComplexF16\u001b[39m)\n\u001b[0m\u001b[90m   @\u001b[39m \u001b[90mBase\u001b[39m \u001b[90m\u001b[4mmath.jl:1512\u001b[24m\u001b[39m\n\u001b[0m  sqrt(\u001b[91m::BigFloat\u001b[39m)\n\u001b[0m\u001b[90m   @\u001b[39m \u001b[90mBase\u001b[39m \u001b[90m\u001b[4mmpfr.jl:695\u001b[24m\u001b[39m\n\u001b[0m  ...\n",
     "output_type": "error",
     "traceback": [
      "MethodError: no method matching sqrt(::String)\nThe function `sqrt` exists, but no method is defined for this combination of argument types.\n\n\u001b[0mClosest candidates are:\n\u001b[0m  sqrt(\u001b[91m::BigInt\u001b[39m)\n\u001b[0m\u001b[90m   @\u001b[39m \u001b[90mBase\u001b[39m \u001b[90m\u001b[4mmpfr.jl:703\u001b[24m\u001b[39m\n\u001b[0m  sqrt(\u001b[91m::ComplexF16\u001b[39m)\n\u001b[0m\u001b[90m   @\u001b[39m \u001b[90mBase\u001b[39m \u001b[90m\u001b[4mmath.jl:1512\u001b[24m\u001b[39m\n\u001b[0m  sqrt(\u001b[91m::BigFloat\u001b[39m)\n\u001b[0m\u001b[90m   @\u001b[39m \u001b[90mBase\u001b[39m \u001b[90m\u001b[4mmpfr.jl:695\u001b[24m\u001b[39m\n\u001b[0m  ...\n",
      "",
      "Stacktrace:",
      " [1] top-level scope",
      "   @ In[8]:2"
     ]
    }
   ],
   "source": [
    "# Example of MethodError\n",
    "sqrt(\"100\")  # sqrt expects a number, not a string\n"
   ]
  },
  {
   "cell_type": "markdown",
   "id": "1761f75b-2656-498d-a31f-4f543dedb269",
   "metadata": {},
   "source": [
    "#### 5. DivideByZeroError"
   ]
  },
  {
   "cell_type": "code",
   "execution_count": 10,
   "id": "2fc480cc-5b6d-4847-bd54-f7ecead7a63a",
   "metadata": {},
   "outputs": [
    {
     "data": {
      "text/plain": [
       "Inf"
      ]
     },
     "execution_count": 10,
     "metadata": {},
     "output_type": "execute_result"
    }
   ],
   "source": [
    "# Example of DivideByZeroError\n",
    "result = 10 / 0\n"
   ]
  },
  {
   "cell_type": "markdown",
   "id": "9061b4f3-68ab-4e89-8277-6c93aa3b9d78",
   "metadata": {},
   "source": [
    "#### 6. KeyError\n"
   ]
  },
  {
   "cell_type": "code",
   "execution_count": 11,
   "id": "a07945be-440c-4336-8fdb-94e78e22fcc5",
   "metadata": {},
   "outputs": [
    {
     "ename": "LoadError",
     "evalue": "KeyError: key \"orange\" not found",
     "output_type": "error",
     "traceback": [
      "KeyError: key \"orange\" not found",
      "",
      "Stacktrace:",
      " [1] getindex(h::Dict{String, Int64}, key::String)",
      "   @ Base .\\dict.jl:477",
      " [2] top-level scope",
      "   @ In[11]:3"
     ]
    }
   ],
   "source": [
    "# Example of KeyError\n",
    "my_dict = Dict(\"apple\" => 3, \"banana\" => 5)\n",
    "println(my_dict[\"orange\"])  # \"orange\" does not exist in the dictionary"
   ]
  },
  {
   "cell_type": "markdown",
   "id": "3a38f5a3-2992-4be5-8104-54ec0faab8c0",
   "metadata": {},
   "source": [
    "#### 7. ArgumentError"
   ]
  },
  {
   "cell_type": "code",
   "execution_count": 12,
   "id": "0994fe19-9c6e-429e-af74-15ec507d0ed2",
   "metadata": {},
   "outputs": [
    {
     "ename": "LoadError",
     "evalue": "ArgumentError: invalid GenericMemory size: too large for system address width",
     "output_type": "error",
     "traceback": [
      "ArgumentError: invalid GenericMemory size: too large for system address width",
      "",
      "Stacktrace:",
      " [1] GenericMemory",
      "   @ .\\boot.jl:516 [inlined]",
      " [2] Array",
      "   @ .\\boot.jl:578 [inlined]",
      " [3] Array",
      "   @ .\\boot.jl:591 [inlined]",
      " [4] fill",
      "   @ .\\array.jl:526 [inlined]",
      " [5] fill(v::String, dims::Int64)",
      "   @ Base .\\array.jl:524",
      " [6] top-level scope",
      "   @ In[12]:2"
     ]
    }
   ],
   "source": [
    "# Example of ArgumentError\n",
    "fill(\"x\", -3)  # Cannot create an array with negative dimensions"
   ]
  },
  {
   "cell_type": "markdown",
   "id": "37e3ef5a-39c9-4200-b750-9b6cd53b3083",
   "metadata": {},
   "source": [
    "#### 8. System Error"
   ]
  },
  {
   "cell_type": "code",
   "execution_count": 13,
   "id": "9698f01c-f610-4859-b8be-42fba5ff397a",
   "metadata": {},
   "outputs": [
    {
     "ename": "LoadError",
     "evalue": "SystemError: opening file \"C:\\\\Users\\\\ESG\\\\nonexistent_file.jl\": No such file or directory",
     "output_type": "error",
     "traceback": [
      "SystemError: opening file \"C:\\\\Users\\\\ESG\\\\nonexistent_file.jl\": No such file or directory",
      "",
      "Stacktrace:",
      " [1] include(fname::String)",
      "   @ Main .\\sysimg.jl:38",
      " [2] top-level scope",
      "   @ In[13]:2"
     ]
    }
   ],
   "source": [
    "# Example of LoadError\n",
    "include(\"nonexistent_file.jl\")  # File does not exist"
   ]
  },
  {
   "cell_type": "markdown",
   "id": "c2694fd9-bdc7-4e17-8d17-546614ede8e9",
   "metadata": {},
   "source": [
    "#### 9. InexactError\n",
    "##### Occurs when a numeric conversion is not precise.\n",
    "\n"
   ]
  },
  {
   "cell_type": "code",
   "execution_count": 14,
   "id": "0b8ba2d7-bd21-4ea4-ab18-68ce0fadfcfe",
   "metadata": {},
   "outputs": [
    {
     "ename": "LoadError",
     "evalue": "InexactError: Int64(3.14)",
     "output_type": "error",
     "traceback": [
      "InexactError: Int64(3.14)",
      "",
      "Stacktrace:",
      " [1] Int64(x::Float64)",
      "   @ Base .\\float.jl:994",
      " [2] top-level scope",
      "   @ In[14]:2"
     ]
    }
   ],
   "source": [
    "# Example of InexactError\n",
    "x = Int64(3.14)  # Cannot convert a floating-point number to an integer"
   ]
  },
  {
   "cell_type": "markdown",
   "id": "08301e76-8f7a-4bff-ba25-fd6478b14e94",
   "metadata": {},
   "source": [
    "#### 10. StackOverflowError\n",
    "##### Happens when a program enters an infinite recursive loop.\n",
    "\n"
   ]
  },
  {
   "cell_type": "code",
   "execution_count": 15,
   "id": "e21234cb-2e33-4bb5-8b1b-e8a3299bf328",
   "metadata": {},
   "outputs": [
    {
     "ename": "LoadError",
     "evalue": "StackOverflowError:",
     "output_type": "error",
     "traceback": [
      "StackOverflowError:",
      "",
      "Stacktrace:",
      " [1] recursive() (repeats 79984 times)",
      "   @ Main .\\In[15]:3"
     ]
    }
   ],
   "source": [
    "# Example of StackOverflowError\n",
    "function recursive()\n",
    "    recursive()\n",
    "end\n",
    "\n",
    "recursive()"
   ]
  }
 ],
 "metadata": {
  "kernelspec": {
   "display_name": "Julia 1.11.1",
   "language": "julia",
   "name": "julia-1.11"
  },
  "language_info": {
   "file_extension": ".jl",
   "mimetype": "application/julia",
   "name": "julia",
   "version": "1.11.1"
  }
 },
 "nbformat": 4,
 "nbformat_minor": 5
}
