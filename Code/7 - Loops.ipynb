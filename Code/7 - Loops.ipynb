{
 "cells": [
  {
   "cell_type": "markdown",
   "id": "d058fce8-e5c1-4870-a758-b03a71261004",
   "metadata": {},
   "source": [
    "## For Loop\n",
    "##### The for loop in Julia is used to iterate over a range, sequence, or collection and execute a block of code for each element. It is simple and versatile, making it suitable for many use cases."
   ]
  },
  {
   "cell_type": "code",
   "execution_count": 2,
   "id": "806c5cb0-f6da-4a53-8ace-964dd801e594",
   "metadata": {},
   "outputs": [
    {
     "name": "stdout",
     "output_type": "stream",
     "text": [
      "Number: 1\n",
      "Number: 2\n",
      "Number: 3\n",
      "Number: 4\n",
      "Number: 5\n"
     ]
    }
   ],
   "source": [
    "# Loop through numbers from 1 to 5\n",
    "for i in 1:5\n",
    "    println(\"Number: $i\")\n",
    "end"
   ]
  },
  {
   "cell_type": "code",
   "execution_count": 3,
   "id": "5ed0f6d1-2770-4649-9dfe-cc96709c55c4",
   "metadata": {},
   "outputs": [
    {
     "name": "stdout",
     "output_type": "stream",
     "text": [
      "Fruit: Apple\n",
      "Fruit: Banana\n",
      "Fruit: Orange\n"
     ]
    }
   ],
   "source": [
    "# Iterate over an array of fruits\n",
    "arr = [\"Apple\", \"Banana\", \"Orange\"]\n",
    "for fruit in arr\n",
    "    println(\"Fruit: $fruit\")\n",
    "end"
   ]
  },
  {
   "cell_type": "code",
   "execution_count": 4,
   "id": "503f8898-2368-4ea6-8d75-467613602c24",
   "metadata": {},
   "outputs": [
    {
     "name": "stdout",
     "output_type": "stream",
     "text": [
      "Sum: 247\n",
      "Average: 49.4\n"
     ]
    }
   ],
   "source": [
    "# Calculate the sum and average of an array\n",
    "numbers = [12, 45, 67, 89, 34]\n",
    "sum = 0\n",
    "\n",
    "# Loop through the array and calculate the sum\n",
    "for num in numbers\n",
    "    sum += num\n",
    "end\n",
    "\n",
    "# Calculate the average\n",
    "average = sum / length(numbers)\n",
    "\n",
    "println(\"Sum: $sum\")\n",
    "println(\"Average: $average\")"
   ]
  },
  {
   "cell_type": "code",
   "execution_count": 5,
   "id": "f27a9a85-c0f4-4a45-8a65-6c6b40fa0668",
   "metadata": {},
   "outputs": [
    {
     "name": "stdout",
     "output_type": "stream",
     "text": [
      "1 \t2 \t3 \t4 \t5 \t6 \t7 \t8 \t9 \t10 \t\n",
      "2 \t4 \t6 \t8 \t10 \t12 \t14 \t16 \t18 \t20 \t\n",
      "3 \t6 \t9 \t12 \t15 \t18 \t21 \t24 \t27 \t30 \t\n",
      "4 \t8 \t12 \t16 \t20 \t24 \t28 \t32 \t36 \t40 \t\n",
      "5 \t10 \t15 \t20 \t25 \t30 \t35 \t40 \t45 \t50 \t\n",
      "6 \t12 \t18 \t24 \t30 \t36 \t42 \t48 \t54 \t60 \t\n",
      "7 \t14 \t21 \t28 \t35 \t42 \t49 \t56 \t63 \t70 \t\n",
      "8 \t16 \t24 \t32 \t40 \t48 \t56 \t64 \t72 \t80 \t\n",
      "9 \t18 \t27 \t36 \t45 \t54 \t63 \t72 \t81 \t90 \t\n",
      "10 \t20 \t30 \t40 \t50 \t60 \t70 \t80 \t90 \t100 \t\n"
     ]
    }
   ],
   "source": [
    "# Print multiplication table from 1 to 10\n",
    "for i in 1:10\n",
    "    for j in 1:10\n",
    "        print(\"$(i * j) \\t\") # Print each product with tab space\n",
    "    end\n",
    "    println() # Move to the next line after each row\n",
    "end"
   ]
  },
  {
   "cell_type": "code",
   "execution_count": 7,
   "id": "b4eed258-25b9-4922-b168-7073b08d61b9",
   "metadata": {},
   "outputs": [
    {
     "name": "stdout",
     "output_type": "stream",
     "text": [
      "Even numbers: Any[10, 22, 40, 62]\n"
     ]
    }
   ],
   "source": [
    "# Filter even numbers from an array\n",
    "numbers = [10, 15, 22, 33, 40, 51, 62]\n",
    "even_numbers = []\n",
    "\n",
    "# Loop through the array and check for even numbers\n",
    "for num in numbers\n",
    "    if num % 2 == 0\n",
    "        push!(even_numbers, num) # Add even numbers to the new array\n",
    "    end\n",
    "end\n",
    "\n",
    "println(\"Even numbers: $even_numbers\")"
   ]
  },
  {
   "cell_type": "markdown",
   "id": "1a89a918-99c2-410b-89ee-67203e99a307",
   "metadata": {},
   "source": [
    "## While Loop\n",
    "##### The while loop is used when you want to execute a block of code as long as a certain condition holds true. This is useful when the number of iterations is not predetermined."
   ]
  },
  {
   "cell_type": "code",
   "execution_count": 8,
   "id": "67ec9e02-eb55-4234-9d93-3d491ea4b9af",
   "metadata": {},
   "outputs": [
    {
     "name": "stdout",
     "output_type": "stream",
     "text": [
      "Number: 1\n",
      "Number: 2\n",
      "Number: 3\n",
      "Number: 4\n",
      "Number: 5\n"
     ]
    }
   ],
   "source": [
    "# Print numbers from 1 to 5 using a while loop\n",
    "i = 1\n",
    "while i <= 5\n",
    "    println(\"Number: $i\")\n",
    "    i += 1 # Increment the counter\n",
    "end"
   ]
  },
  {
   "cell_type": "code",
   "execution_count": 10,
   "id": "2c3034e6-3f04-403d-a331-471948e298b3",
   "metadata": {},
   "outputs": [
    {
     "name": "stdout",
     "output_type": "stream",
     "text": [
      "Please enter a positive number:\n"
     ]
    },
    {
     "name": "stdin",
     "output_type": "stream",
     "text": [
      "stdin>  -1\n"
     ]
    },
    {
     "name": "stdout",
     "output_type": "stream",
     "text": [
      "Please enter a positive number:\n"
     ]
    },
    {
     "name": "stdin",
     "output_type": "stream",
     "text": [
      "stdin>  0\n"
     ]
    },
    {
     "name": "stdout",
     "output_type": "stream",
     "text": [
      "Please enter a positive number:\n"
     ]
    },
    {
     "name": "stdin",
     "output_type": "stream",
     "text": [
      "stdin>  1\n"
     ]
    },
    {
     "name": "stdout",
     "output_type": "stream",
     "text": [
      "You entered: 1\n"
     ]
    }
   ],
   "source": [
    "# Get a valid number from the user\n",
    "input_value = 0\n",
    "\n",
    "while input_value <= 0\n",
    "    println(\"Please enter a positive number:\")\n",
    "    input_value = parse(Int, readline()) # Read input and convert to integer\n",
    "end\n",
    "\n",
    "println(\"You entered: $input_value\")"
   ]
  },
  {
   "cell_type": "code",
   "execution_count": 11,
   "id": "b720aaa5-98cd-45b4-99c0-283f899bb2f8",
   "metadata": {},
   "outputs": [
    {
     "name": "stdout",
     "output_type": "stream",
     "text": [
      "Countdown: 10\n",
      "Countdown: 9\n",
      "Countdown: 8\n",
      "Countdown: 7\n",
      "Countdown: 6\n",
      "Countdown: 5\n",
      "Countdown: 4\n",
      "Countdown: 3\n",
      "Countdown: 2\n",
      "Countdown: 1\n",
      "The countdown is over!\n"
     ]
    }
   ],
   "source": [
    "# Countdown from 10 to 1\n",
    "count = 10\n",
    "\n",
    "while count > 0\n",
    "    println(\"Countdown: $count\")\n",
    "    count -= 1 # Decrement the counter\n",
    "end\n",
    "\n",
    "println(\"The countdown is over!\")"
   ]
  },
  {
   "cell_type": "code",
   "execution_count": 13,
   "id": "05692384-e2a4-41b5-80a9-a44f7286de60",
   "metadata": {},
   "outputs": [
    {
     "name": "stdout",
     "output_type": "stream",
     "text": [
      "Found the target at index: 4\n"
     ]
    }
   ],
   "source": [
    "# Search for a specific value in a list\n",
    "numbers = [3, 5, 7, 9, 11, 15, 20]\n",
    "target = 9\n",
    "index = 1\n",
    "found = false\n",
    "\n",
    "while index <= length(numbers) && !found\n",
    "    if numbers[index] == target\n",
    "        found = true\n",
    "        println(\"Found the target at index: $index\")\n",
    "    else\n",
    "        index += 1 # Move to the next element\n",
    "    end\n",
    "end\n",
    "\n",
    "if !found\n",
    "    println(\"Target not found in the list.\")\n",
    "end"
   ]
  },
  {
   "cell_type": "markdown",
   "id": "eaed5a8f-fd61-4d9c-b93d-facb3620c184",
   "metadata": {},
   "source": [
    "## Break and Continue in Loops\n",
    "##### The **break** statement is used to exit a loop prematurely\n",
    "##### The **continue** statement skips the current iteration and moves to the next"
   ]
  },
  {
   "cell_type": "code",
   "execution_count": 16,
   "id": "5d7bae20-29f2-4aa4-9d8c-bd96c5a4e5e1",
   "metadata": {},
   "outputs": [
    {
     "name": "stdout",
     "output_type": "stream",
     "text": [
      "Number: 1\n",
      "Number: 2\n",
      "Number: 3\n",
      "Number: 4\n"
     ]
    }
   ],
   "source": [
    "# Stop the loop when the value reaches 5\n",
    "for i in 1:10\n",
    "    if i == 5\n",
    "        break # Exit the loop\n",
    "    end\n",
    "    println(\"Number: $i\")\n",
    "end"
   ]
  },
  {
   "cell_type": "code",
   "execution_count": 17,
   "id": "43cf43e3-9059-4783-9068-ba5e6b20ab1a",
   "metadata": {},
   "outputs": [
    {
     "name": "stdout",
     "output_type": "stream",
     "text": [
      "Odd number: 1\n",
      "Odd number: 3\n",
      "Odd number: 5\n",
      "Odd number: 7\n",
      "Odd number: 9\n"
     ]
    }
   ],
   "source": [
    "# Skip even numbers and print only odd numbers\n",
    "for i in 1:10\n",
    "    if i % 2 == 0\n",
    "        continue # Skip even numbers\n",
    "    end\n",
    "    println(\"Odd number: $i\")\n",
    "end"
   ]
  },
  {
   "cell_type": "markdown",
   "id": "9e4fdc01-3e07-46b0-a6c8-3c2bd95e0a10",
   "metadata": {},
   "source": [
    "### Project: Student Grade Evaluation System!"
   ]
  },
  {
   "cell_type": "code",
   "execution_count": 27,
   "id": "bdcefea4-9439-45d3-8f38-ef8d32d8ce89",
   "metadata": {},
   "outputs": [
    {
     "name": "stdout",
     "output_type": "stream",
     "text": [
      "Welcome to the Student Grade Evaluation System!\n",
      "Enter the number of students:\n"
     ]
    },
    {
     "name": "stdin",
     "output_type": "stream",
     "text": [
      "stdin>  2\n"
     ]
    },
    {
     "name": "stdout",
     "output_type": "stream",
     "text": [
      "\n",
      "Enter the name of student #1:\n"
     ]
    },
    {
     "name": "stdin",
     "output_type": "stream",
     "text": [
      "stdin>  Ali\n"
     ]
    },
    {
     "name": "stdout",
     "output_type": "stream",
     "text": [
      "Enter the grade for Ali:\n"
     ]
    },
    {
     "name": "stdin",
     "output_type": "stream",
     "text": [
      "stdin>  17\n"
     ]
    },
    {
     "name": "stdout",
     "output_type": "stream",
     "text": [
      "Ali has passed!\n",
      "\n",
      "Enter the name of student #2:\n"
     ]
    },
    {
     "name": "stdin",
     "output_type": "stream",
     "text": [
      "stdin>  hadi\n"
     ]
    },
    {
     "name": "stdout",
     "output_type": "stream",
     "text": [
      "Enter the grade for hadi:\n"
     ]
    },
    {
     "name": "stdin",
     "output_type": "stream",
     "text": [
      "stdin>  10\n"
     ]
    },
    {
     "name": "stdout",
     "output_type": "stream",
     "text": [
      "hadi needs remedial courses.\n",
      "\n",
      "Evaluation Summary:\n",
      "Number of students who passed: 1\n",
      "Number of students who need remedial courses: 1\n"
     ]
    }
   ],
   "source": [
    "# Student Grade Evaluation System\n",
    "\n",
    "println(\"Welcome to the Student Grade Evaluation System!\")\n",
    "\n",
    "# Ask for the number of students\n",
    "println(\"Enter the number of students:\")\n",
    "num_students = parse(Int, readline())\n",
    "\n",
    "# Initialize a counter for the students who passed\n",
    "passed_students = 0\n",
    "students_needing_remedial = 0\n",
    "\n",
    "# Loop over the number of students\n",
    "for i in 1:num_students\n",
    "    println(\"\\nEnter the name of student #$i:\")\n",
    "    name = readline()\n",
    "    \n",
    "    println(\"Enter the grade for $name:\")\n",
    "    grade = parse(Float64, readline())\n",
    "\n",
    "    # Check if the grade is above the passing grade (12 out of 20)\n",
    "    if grade >= 12\n",
    "        println(\"$name has passed!\")\n",
    "        passed_students += 1\n",
    "    else\n",
    "        println(\"$name needs remedial courses.\")\n",
    "        students_needing_remedial += 1\n",
    "    end\n",
    "end\n",
    "\n",
    "# Display the final result\n",
    "println(\"\\nEvaluation Summary:\")\n",
    "println(\"Number of students who passed: $passed_students\")\n",
    "println(\"Number of students who need remedial courses: $students_needing_remedial\")"
   ]
  },
  {
   "cell_type": "code",
   "execution_count": null,
   "id": "136d0899-d9ba-46b6-a7c9-a7dd26f75ba4",
   "metadata": {},
   "outputs": [],
   "source": []
  },
  {
   "cell_type": "code",
   "execution_count": null,
   "id": "29564e9e-a4ea-4425-bb43-e88e7964d0f8",
   "metadata": {},
   "outputs": [],
   "source": []
  },
  {
   "cell_type": "code",
   "execution_count": null,
   "id": "64138b90-49f9-4ce6-8fe0-54ca9e56a878",
   "metadata": {},
   "outputs": [],
   "source": []
  }
 ],
 "metadata": {
  "kernelspec": {
   "display_name": "Julia 1.11.1",
   "language": "julia",
   "name": "julia-1.11"
  },
  "language_info": {
   "file_extension": ".jl",
   "mimetype": "application/julia",
   "name": "julia",
   "version": "1.11.1"
  }
 },
 "nbformat": 4,
 "nbformat_minor": 5
}
