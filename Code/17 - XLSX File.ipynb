{
 "cells": [
  {
   "cell_type": "code",
   "execution_count": 1,
   "id": "064d76a2-e767-4cfd-8f35-8a65990f016b",
   "metadata": {},
   "outputs": [
    {
     "name": "stderr",
     "output_type": "stream",
     "text": [
      "\u001b[32m\u001b[1m   Resolving\u001b[22m\u001b[39m package versions...\n",
      "\u001b[32m\u001b[1m  No Changes\u001b[22m\u001b[39m to `C:\\Users\\ESG\\.julia\\environments\\v1.11\\Project.toml`\n",
      "\u001b[32m\u001b[1m  No Changes\u001b[22m\u001b[39m to `C:\\Users\\ESG\\.julia\\environments\\v1.11\\Manifest.toml`\n"
     ]
    }
   ],
   "source": [
    "using Pkg\n",
    "Pkg.add(\"XLSX\")"
   ]
  },
  {
   "cell_type": "code",
   "execution_count": 10,
   "id": "359af397-f27b-49d1-b893-7a0fb1fb2acd",
   "metadata": {},
   "outputs": [
    {
     "data": {
      "text/plain": [
       "XLSX.DataTable(Any[Any[\"My Title\", \"Another title\", \"The best image ever\"], Any[\"2016.1.1\", \"2016.1.2\", \"2015.4.5\"], Any[\"6/16/16\", \"8/12/17\", \"12/1/93\"], Any[\"Farm subsidies\", \"The Who; British Invasion; AM radio\", \"Politics; Memes; Cats\"], Any[\"This is a sample description\", \"Eloquently written curatorial description\", missing], Any[\"some notes\", \"notes for internal use\", missing], Any[\"John Doe\", \"John Doe\", \"Mary Maryson\"], Any[\"Gift of So and So\", \"Gift of So and So\", \"Some other Gift\"], Any[2016.1, 2016.1, 2015.4], Any[\"orig\", \"repro\", \"dontknow\"]], [:Title, :Identifier, :Date, :Subject, :Description, :Notes, :Creator, :Accession, Symbol(\"Accession No\"), :Reproduction], Dict(:Creator => 7, :Subject => 4, Symbol(\"Accession No\") => 9, :Title => 1, :Date => 3, :Description => 5, :Notes => 6, :Identifier => 2, :Reproduction => 10, :Accession => 8…))"
      ]
     },
     "execution_count": 10,
     "metadata": {},
     "output_type": "execute_result"
    }
   ],
   "source": [
    "using XLSX\n",
    "\n",
    "# File path to the Excel file\n",
    "file_path = \"D:/Learn/Julia Programming/Attachment/File Handling/sample2.xlsx\"  # Replace with the path to your Excel file\n",
    "\n",
    "# Read the Excel file\n",
    "xlsx_data = XLSX.readtable(file_path, \"Sheet1\")  # Adjust the sheet name if needed"
   ]
  },
  {
   "cell_type": "code",
   "execution_count": 11,
   "id": "3457631c-1390-495d-8746-db9674d7251d",
   "metadata": {},
   "outputs": [
    {
     "data": {
      "text/html": [
       "<div><div style = \"float: left;\"><span>3×10 DataFrame</span></div><div style = \"clear: both;\"></div></div><div class = \"data-frame\" style = \"overflow-x: scroll;\"><table class = \"data-frame\" style = \"margin-bottom: 6px;\"><thead><tr class = \"header\"><th class = \"rowNumber\" style = \"font-weight: bold; text-align: right;\">Row</th><th style = \"text-align: left;\">Title</th><th style = \"text-align: left;\">Identifier</th><th style = \"text-align: left;\">Date</th><th style = \"text-align: left;\">Subject</th><th style = \"text-align: left;\">Description</th><th style = \"text-align: left;\">Notes</th><th style = \"text-align: left;\">Creator</th><th style = \"text-align: left;\">Accession</th><th style = \"text-align: left;\">Accession No</th><th style = \"text-align: left;\">Reproduction</th></tr><tr class = \"subheader headerLastRow\"><th class = \"rowNumber\" style = \"font-weight: bold; text-align: right;\"></th><th title = \"Any\" style = \"text-align: left;\">Any</th><th title = \"Any\" style = \"text-align: left;\">Any</th><th title = \"Any\" style = \"text-align: left;\">Any</th><th title = \"Any\" style = \"text-align: left;\">Any</th><th title = \"Any\" style = \"text-align: left;\">Any</th><th title = \"Any\" style = \"text-align: left;\">Any</th><th title = \"Any\" style = \"text-align: left;\">Any</th><th title = \"Any\" style = \"text-align: left;\">Any</th><th title = \"Any\" style = \"text-align: left;\">Any</th><th title = \"Any\" style = \"text-align: left;\">Any</th></tr></thead><tbody><tr><td class = \"rowNumber\" style = \"font-weight: bold; text-align: right;\">1</td><td style = \"text-align: left;\">My Title</td><td style = \"text-align: left;\">2016.1.1</td><td style = \"text-align: left;\">6/16/16</td><td style = \"text-align: left;\">Farm subsidies</td><td style = \"text-align: left;\">This is a sample description</td><td style = \"text-align: left;\">some notes</td><td style = \"text-align: left;\">John Doe</td><td style = \"text-align: left;\">Gift of So and So</td><td style = \"text-align: left;\">2016.1</td><td style = \"text-align: left;\">orig</td></tr><tr><td class = \"rowNumber\" style = \"font-weight: bold; text-align: right;\">2</td><td style = \"text-align: left;\">Another title</td><td style = \"text-align: left;\">2016.1.2</td><td style = \"text-align: left;\">8/12/17</td><td style = \"text-align: left;\">The Who; British Invasion; AM radio</td><td style = \"text-align: left;\">Eloquently written curatorial description</td><td style = \"text-align: left;\">notes for internal use</td><td style = \"text-align: left;\">John Doe</td><td style = \"text-align: left;\">Gift of So and So</td><td style = \"text-align: left;\">2016.1</td><td style = \"text-align: left;\">repro</td></tr><tr><td class = \"rowNumber\" style = \"font-weight: bold; text-align: right;\">3</td><td style = \"text-align: left;\">The best image ever</td><td style = \"text-align: left;\">2015.4.5</td><td style = \"text-align: left;\">12/1/93</td><td style = \"text-align: left;\">Politics; Memes; Cats</td><td style = \"font-style: italic; text-align: left;\">missing</td><td style = \"font-style: italic; text-align: left;\">missing</td><td style = \"text-align: left;\">Mary Maryson</td><td style = \"text-align: left;\">Some other Gift</td><td style = \"text-align: left;\">2015.4</td><td style = \"text-align: left;\">dontknow</td></tr></tbody></table></div>"
      ],
      "text/latex": [
       "\\begin{tabular}{r|cccccc}\n",
       "\t& Title & Identifier & Date & Subject & Description & \\\\\n",
       "\t\\hline\n",
       "\t& Any & Any & Any & Any & Any & \\\\\n",
       "\t\\hline\n",
       "\t1 & My Title & 2016.1.1 & 6/16/16 & Farm subsidies & This is a sample description & $\\dots$ \\\\\n",
       "\t2 & Another title & 2016.1.2 & 8/12/17 & The Who; British Invasion; AM radio & Eloquently written curatorial description & $\\dots$ \\\\\n",
       "\t3 & The best image ever & 2015.4.5 & 12/1/93 & Politics; Memes; Cats & \\emph{missing} & $\\dots$ \\\\\n",
       "\\end{tabular}\n"
      ],
      "text/plain": [
       "\u001b[1m3×10 DataFrame\u001b[0m\n",
       "\u001b[1m Row \u001b[0m│\u001b[1m Title               \u001b[0m\u001b[1m Identifier \u001b[0m\u001b[1m Date    \u001b[0m\u001b[1m Subject                      \u001b[0m ⋯\n",
       "     │\u001b[90m Any                 \u001b[0m\u001b[90m Any        \u001b[0m\u001b[90m Any     \u001b[0m\u001b[90m Any                          \u001b[0m ⋯\n",
       "─────┼──────────────────────────────────────────────────────────────────────────\n",
       "   1 │ My Title             2016.1.1    6/16/16  Farm subsidies                ⋯\n",
       "   2 │ Another title        2016.1.2    8/12/17  The Who; British Invasion; AM\n",
       "   3 │ The best image ever  2015.4.5    12/1/93  Politics; Memes; Cats\n",
       "\u001b[36m                                                               7 columns omitted\u001b[0m"
      ]
     },
     "execution_count": 11,
     "metadata": {},
     "output_type": "execute_result"
    }
   ],
   "source": [
    "# Convert the data into a DataFrame for easier manipulation\n",
    "using DataFrames\n",
    "df = DataFrame(xlsx_data)"
   ]
  },
  {
   "cell_type": "code",
   "execution_count": 12,
   "id": "88da59b6-b202-40ec-9cf5-0bde02702903",
   "metadata": {},
   "outputs": [
    {
     "name": "stdout",
     "output_type": "stream",
     "text": [
      "Original DataFrame:\n",
      "\u001b[1m3×10 DataFrame\u001b[0m\n",
      "\u001b[1m Row \u001b[0m│\u001b[1m Title               \u001b[0m\u001b[1m Identifier \u001b[0m\u001b[1m Date    \u001b[0m\u001b[1m Subject                           \u001b[0m\u001b[1m Description                       \u001b[0m\u001b[1m Notes                  \u001b[0m\u001b[1m Creator      \u001b[0m\u001b[1m Accession         \u001b[0m\u001b[1m Accession No \u001b[0m\u001b[1m Reproduction \u001b[0m\n",
      "     │\u001b[90m Any                 \u001b[0m\u001b[90m Any        \u001b[0m\u001b[90m Any     \u001b[0m\u001b[90m Any                               \u001b[0m\u001b[90m Any                               \u001b[0m\u001b[90m Any                    \u001b[0m\u001b[90m Any          \u001b[0m\u001b[90m Any               \u001b[0m\u001b[90m Any          \u001b[0m\u001b[90m Any          \u001b[0m\n",
      "─────┼─────────────────────────────────────────────────────────────────────────────────────────────────────────────────────────────────────────────────────────────────────────────────────────────────────\n",
      "   1 │ My Title             2016.1.1    6/16/16  Farm subsidies                     This is a sample description       some notes              John Doe      Gift of So and So  2016.1        orig\n",
      "   2 │ Another title        2016.1.2    8/12/17  The Who; British Invasion; AM ra…  Eloquently written curatorial de…  notes for internal use  John Doe      Gift of So and So  2016.1        repro\n",
      "   3 │ The best image ever  2015.4.5    12/1/93  Politics; Memes; Cats             \u001b[90m missing                           \u001b[0m\u001b[90m missing                \u001b[0m Mary Maryson  Some other Gift    2015.4        dontknow\n"
     ]
    }
   ],
   "source": [
    "# Display the first few rows\n",
    "println(\"Original DataFrame:\")\n",
    "println(first(df, 5))"
   ]
  },
  {
   "cell_type": "markdown",
   "id": "80c0c63f-e63e-430f-9602-efb68fa88550",
   "metadata": {},
   "source": [
    "#### # Example 1: Filter rows where \"Creator\" is \"John Doe\"\n"
   ]
  },
  {
   "cell_type": "code",
   "execution_count": 13,
   "id": "b7b61dc7-af84-4296-9d71-ebfafc222ffc",
   "metadata": {},
   "outputs": [
    {
     "name": "stdout",
     "output_type": "stream",
     "text": [
      "\n",
      "Rows where Creator is 'John Doe':\n"
     ]
    },
    {
     "data": {
      "text/html": [
       "<div><div style = \"float: left;\"><span>2×10 DataFrame</span></div><div style = \"clear: both;\"></div></div><div class = \"data-frame\" style = \"overflow-x: scroll;\"><table class = \"data-frame\" style = \"margin-bottom: 6px;\"><thead><tr class = \"header\"><th class = \"rowNumber\" style = \"font-weight: bold; text-align: right;\">Row</th><th style = \"text-align: left;\">Title</th><th style = \"text-align: left;\">Identifier</th><th style = \"text-align: left;\">Date</th><th style = \"text-align: left;\">Subject</th><th style = \"text-align: left;\">Description</th><th style = \"text-align: left;\">Notes</th><th style = \"text-align: left;\">Creator</th><th style = \"text-align: left;\">Accession</th><th style = \"text-align: left;\">Accession No</th><th style = \"text-align: left;\">Reproduction</th></tr><tr class = \"subheader headerLastRow\"><th class = \"rowNumber\" style = \"font-weight: bold; text-align: right;\"></th><th title = \"Any\" style = \"text-align: left;\">Any</th><th title = \"Any\" style = \"text-align: left;\">Any</th><th title = \"Any\" style = \"text-align: left;\">Any</th><th title = \"Any\" style = \"text-align: left;\">Any</th><th title = \"Any\" style = \"text-align: left;\">Any</th><th title = \"Any\" style = \"text-align: left;\">Any</th><th title = \"Any\" style = \"text-align: left;\">Any</th><th title = \"Any\" style = \"text-align: left;\">Any</th><th title = \"Any\" style = \"text-align: left;\">Any</th><th title = \"Any\" style = \"text-align: left;\">Any</th></tr></thead><tbody><tr><td class = \"rowNumber\" style = \"font-weight: bold; text-align: right;\">1</td><td style = \"text-align: left;\">My Title</td><td style = \"text-align: left;\">2016.1.1</td><td style = \"text-align: left;\">6/16/16</td><td style = \"text-align: left;\">Farm subsidies</td><td style = \"text-align: left;\">This is a sample description</td><td style = \"text-align: left;\">some notes</td><td style = \"text-align: left;\">John Doe</td><td style = \"text-align: left;\">Gift of So and So</td><td style = \"text-align: left;\">2016.1</td><td style = \"text-align: left;\">orig</td></tr><tr><td class = \"rowNumber\" style = \"font-weight: bold; text-align: right;\">2</td><td style = \"text-align: left;\">Another title</td><td style = \"text-align: left;\">2016.1.2</td><td style = \"text-align: left;\">8/12/17</td><td style = \"text-align: left;\">The Who; British Invasion; AM radio</td><td style = \"text-align: left;\">Eloquently written curatorial description</td><td style = \"text-align: left;\">notes for internal use</td><td style = \"text-align: left;\">John Doe</td><td style = \"text-align: left;\">Gift of So and So</td><td style = \"text-align: left;\">2016.1</td><td style = \"text-align: left;\">repro</td></tr></tbody></table></div>"
      ],
      "text/latex": [
       "\\begin{tabular}{r|cccccc}\n",
       "\t& Title & Identifier & Date & Subject & Description & \\\\\n",
       "\t\\hline\n",
       "\t& Any & Any & Any & Any & Any & \\\\\n",
       "\t\\hline\n",
       "\t1 & My Title & 2016.1.1 & 6/16/16 & Farm subsidies & This is a sample description & $\\dots$ \\\\\n",
       "\t2 & Another title & 2016.1.2 & 8/12/17 & The Who; British Invasion; AM radio & Eloquently written curatorial description & $\\dots$ \\\\\n",
       "\\end{tabular}\n"
      ],
      "text/plain": [
       "\u001b[1m2×10 DataFrame\u001b[0m\n",
       "\u001b[1m Row \u001b[0m│\u001b[1m Title         \u001b[0m\u001b[1m Identifier \u001b[0m\u001b[1m Date    \u001b[0m\u001b[1m Subject                           \u001b[0m\u001b[1m \u001b[0m ⋯\n",
       "     │\u001b[90m Any           \u001b[0m\u001b[90m Any        \u001b[0m\u001b[90m Any     \u001b[0m\u001b[90m Any                               \u001b[0m\u001b[90m \u001b[0m ⋯\n",
       "─────┼──────────────────────────────────────────────────────────────────────────\n",
       "   1 │ My Title       2016.1.1    6/16/16  Farm subsidies                      ⋯\n",
       "   2 │ Another title  2016.1.2    8/12/17  The Who; British Invasion; AM ra…\n",
       "\u001b[36m                                                               6 columns omitted\u001b[0m"
      ]
     },
     "execution_count": 13,
     "metadata": {},
     "output_type": "execute_result"
    }
   ],
   "source": [
    "filtered_df = filter(row -> row.Creator == \"John Doe\", df)\n",
    "println(\"\\nRows where Creator is 'John Doe':\")\n",
    "filtered_df"
   ]
  },
  {
   "cell_type": "code",
   "execution_count": 16,
   "id": "4f03e808-63e6-4dba-91fc-1262b9580a5f",
   "metadata": {},
   "outputs": [
    {
     "data": {
      "text/plain": [
       "3-element Vector{Any}:\n",
       " \"My Title\"\n",
       " \"Another title\"\n",
       " \"The best image ever\""
      ]
     },
     "execution_count": 16,
     "metadata": {},
     "output_type": "execute_result"
    }
   ],
   "source": [
    "df.Title"
   ]
  },
  {
   "cell_type": "markdown",
   "id": "358cc5ff-8f14-4a41-bd59-4a871e193b98",
   "metadata": {},
   "source": [
    "#### # Example 3: Save the modified data to a new Excel file\n"
   ]
  },
  {
   "cell_type": "code",
   "execution_count": 17,
   "id": "80b0d0d2-a167-4e9e-944b-3a583d7136ab",
   "metadata": {},
   "outputs": [
    {
     "name": "stdout",
     "output_type": "stream",
     "text": [
      "\n",
      "Updated data saved to 'updated_data.xlsx'.\n"
     ]
    }
   ],
   "source": [
    "output_path = \"D:/Learn/Julia Programming/Attachment/File Handling/Output/updated_data.xlsx\"\n",
    "XLSX.writetable(output_path, eachcol(df), names(df))\n",
    "println(\"\\nUpdated data saved to 'updated_data.xlsx'.\")"
   ]
  },
  {
   "cell_type": "code",
   "execution_count": null,
   "id": "88318b43-bb1b-4be4-b2db-dcb62f67dc05",
   "metadata": {},
   "outputs": [],
   "source": []
  }
 ],
 "metadata": {
  "kernelspec": {
   "display_name": "Julia 1.11.1",
   "language": "julia",
   "name": "julia-1.11"
  },
  "language_info": {
   "file_extension": ".jl",
   "mimetype": "application/julia",
   "name": "julia",
   "version": "1.11.1"
  }
 },
 "nbformat": 4,
 "nbformat_minor": 5
}
