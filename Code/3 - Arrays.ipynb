{
 "cells": [
  {
   "cell_type": "markdown",
   "id": "570cabec-a95b-4e73-a516-42522c990d9b",
   "metadata": {},
   "source": [
    "### Introduction to Arrays in Julia\n",
    "##### Arrays in Julia are used to store data in the form of ordered collections of elements. These elements can be of any data type. Arrays can be one-dimensional (vectors) or multi-dimensional (matrices, tensors, etc.).\n",
    "\n",
    "##### 1. One-Dimensional Array (Vector)"
   ]
  },
  {
   "cell_type": "code",
   "execution_count": 1,
   "id": "024e79cd-a61f-402f-8e29-762a5f11d784",
   "metadata": {},
   "outputs": [
    {
     "name": "stdout",
     "output_type": "stream",
     "text": [
      "[1, 2, 3, 4, 5]\n"
     ]
    }
   ],
   "source": [
    "# Define a one-dimensional array (vector)\n",
    "array1 = [1, 2, 3, 4, 5]  # An array of integers\n",
    "println(array1)  # Output: [1, 2, 3, 4, 5]"
   ]
  },
  {
   "cell_type": "markdown",
   "id": "39c179b7-5043-45b1-a983-684d722605ca",
   "metadata": {},
   "source": [
    "##### 2. Two-Dimensional Array (Matrix)"
   ]
  },
  {
   "cell_type": "code",
   "execution_count": 2,
   "id": "dc93aee4-273d-4806-a849-30e13d5283d7",
   "metadata": {},
   "outputs": [
    {
     "name": "stdout",
     "output_type": "stream",
     "text": [
      "[1 2 3; 4 5 6; 7 8 9]\n"
     ]
    }
   ],
   "source": [
    "# Define a two-dimensional array (matrix)\n",
    "array2 = [1 2 3; 4 5 6; 7 8 9]  # A 3x3 matrix\n",
    "println(array2)"
   ]
  },
  {
   "cell_type": "markdown",
   "id": "52650587-3e01-45d9-8898-f7cca1b0799d",
   "metadata": {},
   "source": [
    "##### 3. Higher-Dimensional Arrays\n",
    "###### array2 is a 3x3 matrix, where rows are separated by ;."
   ]
  },
  {
   "cell_type": "code",
   "execution_count": 3,
   "id": "fb5f625e-dfbd-4130-b6a5-2191a6c76a1c",
   "metadata": {},
   "outputs": [
    {
     "name": "stdout",
     "output_type": "stream",
     "text": [
      "[0.4526790865957867 0.347401605476512 0.09501312183426791; 0.22571500488950924 0.984469089744383 0.917825740457357; 0.14420757296810383 0.252679513535936 0.3871069259276727;;; 0.5503730622620636 0.27344612438061344 0.2575875339205643; 0.7062132740962844 0.0301699553080802 0.12168053975586268; 0.1857119781737121 0.9644184760464114 0.3756252987301446;;; 0.47050595447991694 0.25334076772028724 0.32875992587156555; 0.5457992555065047 0.40701812314752717 0.12379601067517831; 0.9467002998694048 0.16554402126557688 0.6305193286254835]\n"
     ]
    }
   ],
   "source": [
    "# Define a three-dimensional array\n",
    "array3 = rand(3, 3, 3)  # 3x3x3 array with random values\n",
    "println(array3)"
   ]
  },
  {
   "cell_type": "markdown",
   "id": "f741d203-9388-4c10-b458-0e8eee543491",
   "metadata": {},
   "source": [
    "#### Operations on Arrays\n",
    "##### Arrays allow various operations, such as accessing elements, modifying values, and performing mathematical calculations.\n",
    "\n",
    "##### 1. Accessing Array Elements\n",
    "###### You can access array elements using indices."
   ]
  },
  {
   "cell_type": "code",
   "execution_count": 4,
   "id": "4fccadf4-787d-4726-8882-358c1190c7b5",
   "metadata": {},
   "outputs": [
    {
     "name": "stdout",
     "output_type": "stream",
     "text": [
      "2\n",
      "6\n"
     ]
    }
   ],
   "source": [
    "# Accessing elements of an array\n",
    "println(array1[2])  # Output: 2 (second element of the array)\n",
    "\n",
    "# Accessing elements of a 2D array (matrix)\n",
    "println(array2[2, 3])  # Output: 6 (element at row 2, column 3)"
   ]
  },
  {
   "cell_type": "markdown",
   "id": "4d2afcdb-aaaf-443a-af2a-b6ec697b1875",
   "metadata": {},
   "source": [
    "##### 2. Modifying Array Elements"
   ]
  },
  {
   "cell_type": "code",
   "execution_count": 5,
   "id": "8be85637-0ec5-48ba-ba8b-9cef1203520a",
   "metadata": {},
   "outputs": [
    {
     "name": "stdout",
     "output_type": "stream",
     "text": [
      "[1, 2, 10, 4, 5]\n"
     ]
    }
   ],
   "source": [
    "# Change an element of the array\n",
    "array1[3] = 10  # Change the third element to 10\n",
    "println(array1)  # Output: [1, 2, 10, 4, 5]"
   ]
  },
  {
   "cell_type": "markdown",
   "id": "d5ed047f-c238-44a8-9b31-896ca7d3e01f",
   "metadata": {},
   "source": [
    "##### 3. Mathematical Operations on Arrays"
   ]
  },
  {
   "cell_type": "code",
   "execution_count": 6,
   "id": "d030cd8e-1265-4a55-b35d-894e64d90789",
   "metadata": {},
   "outputs": [
    {
     "name": "stdout",
     "output_type": "stream",
     "text": [
      "[5, 7, 9]\n",
      "[19 22; 43 50]\n"
     ]
    }
   ],
   "source": [
    "# Element-wise addition of two arrays\n",
    "array4 = [1, 2, 3]\n",
    "array5 = [4, 5, 6]\n",
    "println(array4 + array5)  # Output: [5, 7, 9]\n",
    "\n",
    "# Matrix multiplication\n",
    "matrix1 = [1 2; 3 4]\n",
    "matrix2 = [5 6; 7 8]\n",
    "println(matrix1 * matrix2)  # Output: [19 22; 43 50]"
   ]
  },
  {
   "cell_type": "markdown",
   "id": "ecbc714a-721d-4716-b815-48d7245df955",
   "metadata": {},
   "source": [
    "##### 4. Built-in Functions for Arrays\n",
    "###### Julia provides built-in functions for common array operations like finding the length, summing elements, sorting, etc."
   ]
  },
  {
   "cell_type": "code",
   "execution_count": 7,
   "id": "8d3ae76f-8b81-4bf9-92aa-269b5e127184",
   "metadata": {},
   "outputs": [
    {
     "name": "stdout",
     "output_type": "stream",
     "text": [
      "5\n",
      "22\n",
      "[1, 2, 4, 5, 10]\n"
     ]
    }
   ],
   "source": [
    "# Finding the length of an array\n",
    "println(length(array1))  # Output: 5\n",
    "\n",
    "# Summing elements of an array\n",
    "println(sum(array1))  # Output: 22\n",
    "\n",
    "# Sorting an array\n",
    "println(sort(array1))  # Output: [1, 2, 3, 4, 5]"
   ]
  },
  {
   "cell_type": "markdown",
   "id": "231db824-201c-4953-b541-d0b41aba2d90",
   "metadata": {},
   "source": [
    "#### Example 1: Calculating the Average of an Array of Numbers"
   ]
  },
  {
   "cell_type": "code",
   "execution_count": 8,
   "id": "ae3ecb6a-0fc4-452f-bf88-36e1696e0958",
   "metadata": {},
   "outputs": [
    {
     "name": "stdout",
     "output_type": "stream",
     "text": [
      "The average grade is: 86.6\n"
     ]
    }
   ],
   "source": [
    "# Define an array of student grades\n",
    "grades = [85, 90, 88, 92, 78]\n",
    "\n",
    "# Calculate the average grade\n",
    "average_grade = sum(grades) / length(grades)\n",
    "println(\"The average grade is: \", average_grade)"
   ]
  },
  {
   "cell_type": "markdown",
   "id": "836987d9-b18c-4c88-a569-7ea00647af63",
   "metadata": {},
   "source": [
    "#### Example 2: Transposing a Matrix"
   ]
  },
  {
   "cell_type": "code",
   "execution_count": 9,
   "id": "de7177e9-457e-4894-a773-90e488e78a10",
   "metadata": {},
   "outputs": [
    {
     "name": "stdout",
     "output_type": "stream",
     "text": [
      "The rotated matrix is: \n",
      "[1 4 7; 2 5 8; 3 6 9]\n"
     ]
    }
   ],
   "source": [
    "# Define a 2D matrix\n",
    "matrix = [1 2 3; 4 5 6; 7 8 9]\n",
    "\n",
    "# Rotate the matrix (transpose)\n",
    "rotated_matrix = transpose(matrix)\n",
    "println(\"The rotated matrix is: \")\n",
    "println(rotated_matrix)"
   ]
  },
  {
   "cell_type": "markdown",
   "id": "794091aa-1649-4e2f-931b-b1aa4fd6e3a5",
   "metadata": {},
   "source": [
    "### Project: student grades management system"
   ]
  },
  {
   "cell_type": "code",
   "execution_count": 11,
   "id": "bfb2bddf-bb02-49d6-96e3-fa0d52c112b5",
   "metadata": {},
   "outputs": [
    {
     "name": "stdout",
     "output_type": "stream",
     "text": [
      "Student Grades System\n",
      "Average Grade: 83.8\n",
      "Ali has grade 85, they are: Passed\n",
      "Sara has grade 92, they are: Passed\n",
      "Hadi has grade 78, they are: Failed\n",
      "Niloofar has grade 88, they are: Passed\n",
      "Amir has grade 76, they are: Failed\n",
      "\n",
      "Checking overall performance:\n",
      "Ali passed.\n",
      "Sara passed.\n",
      "Hadi failed.\n",
      "Niloofar passed.\n",
      "Amir failed.\n"
     ]
    }
   ],
   "source": [
    "# Define variables and data types\n",
    "students = [\"Ali\", \"Sara\", \"Hadi\", \"Niloofar\", \"Amir\"]  # Array of student names (string)\n",
    "grades = [85, 92, 78, 88, 76]  # Array of grades (integers)\n",
    "\n",
    "# Function to calculate average grade\n",
    "function calculate_average(grades::Array{Int, 1})\n",
    "    return sum(grades) / length(grades)\n",
    "end\n",
    "\n",
    "# Function to check if a student passed or failed\n",
    "function check_pass_fail(average_grade::Float64)\n",
    "    if average_grade >= 80\n",
    "        return \"Passed\"\n",
    "    else\n",
    "        return \"Failed\"\n",
    "    end\n",
    "end\n",
    "\n",
    "# Main logic\n",
    "println(\"Student Grades System\")\n",
    "\n",
    "# Calculate the average grade\n",
    "average_grade = calculate_average(grades)\n",
    "println(\"Average Grade: $average_grade\")\n",
    "\n",
    "# Loop through the students and grades to display their pass/fail status\n",
    "for i in 1:length(students)\n",
    "    # Get the student's name and grade\n",
    "    student_name = students[i]\n",
    "    student_grade = grades[i]\n",
    "    \n",
    "    # Display student information, convert student_grade to Float64 for check_pass_fail\n",
    "    println(\"$student_name has grade $student_grade, they are: \", check_pass_fail(Float64(student_grade)))\n",
    "end\n",
    "\n",
    "# Example of a while loop to check if all students passed or failed\n",
    "println(\"\\nChecking overall performance:\")\n",
    "i = 1\n",
    "while i <= length(students)\n",
    "    student_name = students[i]\n",
    "    student_grade = grades[i]\n",
    "    \n",
    "    if student_grade >= 80\n",
    "        println(\"$student_name passed.\")\n",
    "    else\n",
    "        println(\"$student_name failed.\")\n",
    "    end\n",
    "    i += 1  # Increment the index\n",
    "end"
   ]
  }
 ],
 "metadata": {
  "kernelspec": {
   "display_name": "Julia 1.11.1",
   "language": "julia",
   "name": "julia-1.11"
  },
  "language_info": {
   "file_extension": ".jl",
   "mimetype": "application/julia",
   "name": "julia",
   "version": "1.11.1"
  }
 },
 "nbformat": 4,
 "nbformat_minor": 5
}
