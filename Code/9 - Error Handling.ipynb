{
 "cells": [
  {
   "cell_type": "markdown",
   "id": "08813c37-2b56-4058-bdf1-271a7c596d16",
   "metadata": {},
   "source": [
    "##### Error handling in Julia allows developers to catch and manage exceptions gracefully during runtime. Julia provides the try...catch construct to handle errors and continue execution without crashing the program.\n",
    "#### Basic Error Handling Syntax"
   ]
  },
  {
   "cell_type": "code",
   "execution_count": 1,
   "id": "d2b72ed6-e611-41dc-b378-e994b5583c11",
   "metadata": {},
   "outputs": [
    {
     "name": "stdout",
     "output_type": "stream",
     "text": [
      "Execution completed.\n"
     ]
    },
    {
     "data": {
      "text/plain": [
       "Inf"
      ]
     },
     "execution_count": 1,
     "metadata": {},
     "output_type": "execute_result"
    }
   ],
   "source": [
    "try\n",
    "    # Code that might throw an error\n",
    "    x = 10 / 0\n",
    "catch e\n",
    "    # Handle the error\n",
    "    println(\"An error occurred: $e\")\n",
    "finally\n",
    "    # Optional: Code that runs no matter what\n",
    "    println(\"Execution completed.\")\n",
    "end\n"
   ]
  },
  {
   "cell_type": "markdown",
   "id": "c393ad7d-a738-4c11-9ffe-26402a9011d6",
   "metadata": {},
   "source": [
    "#### Key Components\n",
    "##### **try** Block: Place code that might throw an error inside the try block.\n",
    "##### **catch** Block: Specify what to do if an error occurs. The exception object (e) can provide details about the error.\n",
    "##### **finally** Block (Optional): Contains code that always executes, regardless of whether an error occurred or not.\n",
    "\n",
    "#### Example 1: Handling Division by Zero\n"
   ]
  },
  {
   "cell_type": "code",
   "execution_count": 2,
   "id": "98f682b7-02e0-4123-a8c2-2c5c588fddb2",
   "metadata": {},
   "outputs": [
    {
     "name": "stdout",
     "output_type": "stream",
     "text": [
      "Result: 5.0\n",
      "Result: Inf\n"
     ]
    }
   ],
   "source": [
    "function safe_division(a, b)\n",
    "    try\n",
    "        result = a / b\n",
    "        println(\"Result: $result\")\n",
    "    catch e\n",
    "        println(\"Error: Division by zero is not allowed.\")\n",
    "    end\n",
    "end\n",
    "\n",
    "safe_division(10, 2)  # Output: Result: 5.0\n",
    "safe_division(10, 0)  # Output: Error: Division by zero is not allowed."
   ]
  },
  {
   "cell_type": "markdown",
   "id": "021f081b-4e9b-422f-9484-63673cb70544",
   "metadata": {},
   "source": [
    "#### Example 2: File Handling with Error Catching\n"
   ]
  },
  {
   "cell_type": "code",
   "execution_count": 3,
   "id": "5a4cd939-e011-4d73-a645-e3ab2c0a5b2b",
   "metadata": {},
   "outputs": [
    {
     "name": "stdout",
     "output_type": "stream",
     "text": [
      "Error: Unable to read the file. Reason: SystemError(\"opening file \\\"example.txt\\\"\", 2, nothing)\n",
      "Attempt to read the file has been completed.\n"
     ]
    }
   ],
   "source": [
    "function read_file(filename)\n",
    "    try\n",
    "        content = read(filename, String)\n",
    "        println(\"File Content:\\n$content\")\n",
    "    catch e\n",
    "        println(\"Error: Unable to read the file. Reason: $e\")\n",
    "    finally\n",
    "        println(\"Attempt to read the file has been completed.\")\n",
    "    end\n",
    "end\n",
    "\n",
    "read_file(\"example.txt\")  # Adjust the filename as needed"
   ]
  },
  {
   "cell_type": "markdown",
   "id": "4033dcad-9b8c-465b-a1af-c7abecedd884",
   "metadata": {},
   "source": [
    "####  Throwing Custom Errors\n",
    "##### You can throw your own errors using the throw() function with error types like ErrorException, ArgumentError, or custom exceptions.\n",
    "\n"
   ]
  },
  {
   "cell_type": "code",
   "execution_count": 4,
   "id": "e1ce2663-b3d3-4db6-b067-b0b3920837c1",
   "metadata": {},
   "outputs": [
    {
     "name": "stdout",
     "output_type": "stream",
     "text": [
      "Caught an error: ArgumentError(\"The number must be positive!\")\n"
     ]
    }
   ],
   "source": [
    "function check_positive(number)\n",
    "    if number < 0\n",
    "        throw(ArgumentError(\"The number must be positive!\"))\n",
    "    else\n",
    "        println(\"The number is positive: $number\")\n",
    "    end\n",
    "end\n",
    "\n",
    "try\n",
    "    check_positive(-5)\n",
    "catch e\n",
    "    println(\"Caught an error: $e\")\n",
    "end"
   ]
  },
  {
   "cell_type": "markdown",
   "id": "c4bcfcf6-82a8-4a99-b9c3-ea32cf70783d",
   "metadata": {},
   "source": [
    "#### Example 3: Catch Specific Errors\n"
   ]
  },
  {
   "cell_type": "code",
   "execution_count": 5,
   "id": "8655e001-1a3c-47a3-8157-c7de4682001d",
   "metadata": {},
   "outputs": [
    {
     "name": "stdout",
     "output_type": "stream",
     "text": [
      "Error: Tried to access an invalid index.\n"
     ]
    }
   ],
   "source": [
    "try\n",
    "    x = [1, 2, 3]\n",
    "    println(x[5])  # Invalid index access\n",
    "catch e\n",
    "    if isa(e, BoundsError)\n",
    "        println(\"Error: Tried to access an invalid index.\")\n",
    "    else\n",
    "        println(\"An unexpected error occurred: $e\")\n",
    "    end\n",
    "end"
   ]
  },
  {
   "cell_type": "markdown",
   "id": "968a6aba-e1c2-493f-9eff-b732b7834600",
   "metadata": {},
   "source": [
    "#### Advanced Usage: Re-throwing Errors\n"
   ]
  },
  {
   "cell_type": "code",
   "execution_count": 6,
   "id": "494024b5-191d-4eb6-9306-b07939e4b06c",
   "metadata": {},
   "outputs": [
    {
     "data": {
      "text/plain": [
       "Inf"
      ]
     },
     "execution_count": 6,
     "metadata": {},
     "output_type": "execute_result"
    }
   ],
   "source": [
    "try\n",
    "    x = 10 / 0\n",
    "catch e\n",
    "    println(\"Handling the error temporarily.\")\n",
    "    throw(e)  # Re-throw the error for further handling\n",
    "end"
   ]
  },
  {
   "cell_type": "markdown",
   "id": "3486d69a-c33a-447b-8495-712b6e64f303",
   "metadata": {},
   "source": [
    "### Project : simple file reader "
   ]
  },
  {
   "cell_type": "code",
   "execution_count": 9,
   "id": "76e68eb3-269f-4a6e-a602-ca7e13bd2a4b",
   "metadata": {},
   "outputs": [
    {
     "name": "stdout",
     "output_type": "stream",
     "text": [
      "Opening file: example.txt\n",
      "An error occurred: SystemError(\"opening file \\\"example.txt\\\"\", 2, nothing)\n"
     ]
    }
   ],
   "source": [
    "function read_file_safe(file_path)\n",
    "    file = nothing  # Initialize the file variable\n",
    "    try\n",
    "        # Try opening the file\n",
    "        println(\"Opening file: $file_path\")\n",
    "        file = open(file_path, \"r\")\n",
    "        \n",
    "        # Read and process the content\n",
    "        content = readlines(file)\n",
    "        println(\"File content:\")\n",
    "        for line in content\n",
    "            println(line)\n",
    "        end\n",
    "    catch e\n",
    "        # Handle any error that occurs (e.g., file not found)\n",
    "        println(\"An error occurred: $e\")\n",
    "    finally\n",
    "        # Ensure cleanup (close the file if it was opened)\n",
    "        if file !== nothing && isopen(file)\n",
    "            close(file)\n",
    "            println(\"File closed successfully.\")\n",
    "        end\n",
    "    end\n",
    "end\n",
    "\n",
    "# Example usage\n",
    "file_path = \"example.txt\"  # Replace with the path to your file\n",
    "read_file_safe(file_path)"
   ]
  }
 ],
 "metadata": {
  "kernelspec": {
   "display_name": "Julia 1.11.1",
   "language": "julia",
   "name": "julia-1.11"
  },
  "language_info": {
   "file_extension": ".jl",
   "mimetype": "application/julia",
   "name": "julia",
   "version": "1.11.1"
  }
 },
 "nbformat": 4,
 "nbformat_minor": 5
}
