{
 "cells": [
  {
   "cell_type": "markdown",
   "id": "1ccacc1d-162a-47e9-8f4d-dedc8d51f118",
   "metadata": {},
   "source": [
    "### sets in Julia\n",
    "##### A set is an unordered collection of unique elements in Julia. Sets are particularly useful when you want to store distinct elements and perform operations like union, intersection, and difference.\n",
    "\n",
    "#### Create Sets"
   ]
  },
  {
   "cell_type": "code",
   "execution_count": 1,
   "id": "8f115dcd-e90b-4f4f-9351-c6e45f2e6605",
   "metadata": {},
   "outputs": [
    {
     "name": "stdout",
     "output_type": "stream",
     "text": [
      "Set: Set([5, 4, 2, 3, 1])\n",
      "After adding 6: Set([5, 4, 6, 2, 3, 1])\n",
      "After removing an element: Set([4, 6, 2, 3, 1])\n"
     ]
    }
   ],
   "source": [
    "# Creating a set\n",
    "my_set = Set([1, 2, 3, 4, 5])\n",
    "println(\"Set: $my_set\")\n",
    "\n",
    "# Adding elements to a set\n",
    "push!(my_set, 6)\n",
    "println(\"After adding 6: $my_set\")\n",
    "\n",
    "# Removing elements from a set\n",
    "pop!(my_set)  # Removes an arbitrary element\n",
    "println(\"After removing an element: $my_set\")"
   ]
  },
  {
   "cell_type": "markdown",
   "id": "829f96ff-ee79-4a62-9f84-bece777e2df6",
   "metadata": {},
   "source": [
    "#### Set Operations\n"
   ]
  },
  {
   "cell_type": "code",
   "execution_count": 2,
   "id": "764e3bfc-5e8a-4f63-8c9e-f2126775b7fd",
   "metadata": {},
   "outputs": [
    {
     "name": "stdout",
     "output_type": "stream",
     "text": [
      "Union: Set([5, 4, 6, 2, 3, 1])\n",
      "Intersection: Set([4, 3])\n",
      "Difference: Set([2, 1])\n",
      "Symmetric Difference: Set([5, 6, 2, 1])\n"
     ]
    }
   ],
   "source": [
    "# Defining two sets\n",
    "set_a = Set([1, 2, 3, 4])\n",
    "set_b = Set([3, 4, 5, 6])\n",
    "\n",
    "# Union: Combine all unique elements from both sets\n",
    "union_set = union(set_a, set_b)\n",
    "println(\"Union: $union_set\")\n",
    "\n",
    "# Intersection: Elements common to both sets\n",
    "intersection_set = intersect(set_a, set_b)\n",
    "println(\"Intersection: $intersection_set\")\n",
    "\n",
    "# Difference: Elements in `set_a` but not in `set_b`\n",
    "difference_set = setdiff(set_a, set_b)\n",
    "println(\"Difference: $difference_set\")\n",
    "\n",
    "# Symmetric Difference: Elements in either set, but not in both\n",
    "symmetric_difference_set = symdiff(set_a, set_b)\n",
    "println(\"Symmetric Difference: $symmetric_difference_set\")"
   ]
  },
  {
   "cell_type": "markdown",
   "id": "44bceb9d-667f-493d-9ffb-ac73b2e1c0cb",
   "metadata": {},
   "source": [
    "#### Checking Membership"
   ]
  },
  {
   "cell_type": "code",
   "execution_count": 3,
   "id": "7562a561-1711-488d-a9e7-926e0e1f9335",
   "metadata": {},
   "outputs": [
    {
     "name": "stdout",
     "output_type": "stream",
     "text": [
      "Does set_a contain 3? true\n",
      "Does set_b contain 1? false\n"
     ]
    }
   ],
   "source": [
    "# Check if an element exists in a set\n",
    "println(\"Does set_a contain 3? \", in(3, set_a))  # Alternative: `3 in set_a`\n",
    "println(\"Does set_b contain 1? \", in(1, set_b))"
   ]
  },
  {
   "cell_type": "markdown",
   "id": "45fdbce0-2f34-409c-8e9a-270db777d0b6",
   "metadata": {},
   "source": [
    "#### Iterating Over a Set\n"
   ]
  },
  {
   "cell_type": "code",
   "execution_count": 4,
   "id": "5f079468-3ac0-4949-a100-bfe3a76a52d8",
   "metadata": {},
   "outputs": [
    {
     "name": "stdout",
     "output_type": "stream",
     "text": [
      "Elements in set_a:\n",
      "4\n",
      "2\n",
      "3\n",
      "1\n"
     ]
    }
   ],
   "source": [
    "# Iterating through elements of a set\n",
    "println(\"Elements in set_a:\")\n",
    "for element in set_a\n",
    "    println(element)\n",
    "end"
   ]
  },
  {
   "cell_type": "markdown",
   "id": "104eb8f1-fed4-4711-a867-48c1ba2b5699",
   "metadata": {},
   "source": [
    "### Project : Finding Unique Words"
   ]
  },
  {
   "cell_type": "code",
   "execution_count": 5,
   "id": "de34dae0-3fec-4a54-ac25-7ce0547cb8c8",
   "metadata": {},
   "outputs": [
    {
     "name": "stdout",
     "output_type": "stream",
     "text": [
      "Unique words: Set(SubString{String}[\"great\", \"is\", \"fast\", \"Julia\", \"and\"])\n"
     ]
    }
   ],
   "source": [
    "# Function to count unique words in a sentence\n",
    "function unique_words(sentence::String)\n",
    "    words = split(sentence, \" \")  # Split sentence into words\n",
    "    word_set = Set(words)         # Convert to a set to remove duplicates\n",
    "    return word_set\n",
    "end\n",
    "\n",
    "# Test the function\n",
    "sentence = \"Julia is great and Julia is fast\"\n",
    "unique_set = unique_words(sentence)\n",
    "println(\"Unique words: $unique_set\")"
   ]
  }
 ],
 "metadata": {
  "kernelspec": {
   "display_name": "Julia 1.11.1",
   "language": "julia",
   "name": "julia-1.11"
  },
  "language_info": {
   "file_extension": ".jl",
   "mimetype": "application/julia",
   "name": "julia",
   "version": "1.11.1"
  }
 },
 "nbformat": 4,
 "nbformat_minor": 5
}
